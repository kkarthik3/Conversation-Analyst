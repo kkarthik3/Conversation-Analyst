{
 "cells": [
  {
   "cell_type": "code",
   "execution_count": 9,
   "id": "8b5f79e4",
   "metadata": {},
   "outputs": [],
   "source": [
    "from utils.metadata import meta_data\n",
    "from utils.doc_parser import file_load\n",
    "\n",
    "docs = file_load(\"\",True)"
   ]
  },
  {
   "cell_type": "code",
   "execution_count": 30,
   "id": "2555b01c",
   "metadata": {},
   "outputs": [
    {
     "data": {
      "text/plain": [
       "{'company_name': 'Tata Technologies',\n",
       " 'conference_call_date': 'Not Mentioned',\n",
       " 'management_participants': [{'name': 'Vijay Lohia',\n",
       "   'designation': 'Head of Investor Relations'},\n",
       "  {'name': 'Warren Harris', 'designation': 'CEO and MD'},\n",
       "  {'name': 'Savitha Balachandran', 'designation': 'CFO'}]}"
      ]
     },
     "execution_count": 30,
     "metadata": {},
     "output_type": "execute_result"
    }
   ],
   "source": [
    "fi = meta_data(docs)\n",
    "fi"
   ]
  },
  {
   "cell_type": "code",
   "execution_count": 31,
   "id": "d5c5f666",
   "metadata": {},
   "outputs": [],
   "source": [
    "participant_names = [participant['name'] for participant in fi['management_participants']]"
   ]
  },
  {
   "cell_type": "code",
   "execution_count": 32,
   "id": "d1c4fc2c",
   "metadata": {},
   "outputs": [
    {
     "data": {
      "text/plain": [
       "['Vijay Lohia', 'Warren Harris', 'Savitha Balachandran']"
      ]
     },
     "execution_count": 32,
     "metadata": {},
     "output_type": "execute_result"
    }
   ],
   "source": [
    "participant_names"
   ]
  },
  {
   "cell_type": "code",
   "execution_count": 6,
   "id": "4bfce2d8",
   "metadata": {},
   "outputs": [
    {
     "name": "stdout",
     "output_type": "stream",
     "text": [
      "{'producer': 'Microsoft® Word 2016', 'creator': 'Microsoft® Word 2016', 'creationdate': '2023-10-25T14:44:49+05:30', 'source': 'd:\\\\Projects\\\\Thurro\\\\Q2FY24_LaurusLabs_EarningsCallTranscript.pdf', 'file_path': 'd:\\\\Projects\\\\Thurro\\\\Q2FY24_LaurusLabs_EarningsCallTranscript.pdf', 'total_pages': 18, 'format': 'PDF 1.6', 'title': '', 'author': 'Prasad Mogalagani', 'subject': '', 'keywords': '', 'moddate': '2023-10-25T14:46:08+05:30', 'trapped': '', 'modDate': \"D:20231025144608+05'30'\", 'creationDate': \"D:20231025144449+05'30'\", 'page': 1}\n"
     ]
    }
   ],
   "source": [
    "print(docs[1].metadata)"
   ]
  },
  {
   "cell_type": "code",
   "execution_count": 16,
   "id": "e20e8bd8",
   "metadata": {},
   "outputs": [],
   "source": [
    "from utils.metadata import meta_data\n",
    "from utils.doc_parser import file_load\n",
    "\n",
    "docs = file_load(\"Q2FY24_LaurusLabs_EarningsCallTranscript.pdf\",False)\n",
    "fi = meta_data(docs)\n",
    "participant_names = [participant['name'] for participant in fi['management_participants']]"
   ]
  },
  {
   "cell_type": "code",
   "execution_count": 17,
   "id": "074cf1a6",
   "metadata": {},
   "outputs": [],
   "source": [
    "for i in docs:\n",
    "    if i.metadata[\"page\"]==20:\n",
    "        print(i.page_content)"
   ]
  },
  {
   "cell_type": "code",
   "execution_count": 18,
   "id": "87b5bfd3",
   "metadata": {},
   "outputs": [
    {
     "data": {
      "text/plain": [
       "['Dr. Satyanarayana Chava', 'V V Ravi Kumar', 'Vivek']"
      ]
     },
     "execution_count": 18,
     "metadata": {},
     "output_type": "execute_result"
    }
   ],
   "source": [
    "participant_names"
   ]
  },
  {
   "cell_type": "code",
   "execution_count": 19,
   "id": "389b38b4",
   "metadata": {},
   "outputs": [
    {
     "name": "stdout",
     "output_type": "stream",
     "text": [
      "“Laurus Labs Q2 FY'24 Earnings Conference Call” \n",
      " \n",
      "October 20, 2023 \n",
      " \n",
      " \n",
      " \n",
      " \n",
      " \n",
      " \n",
      " \n",
      " \n",
      " \n",
      " \n",
      " \n",
      " \n",
      " \n",
      " \n",
      " \n",
      " \n",
      "MANAGEMENT: DR. SATYANARAYANA CHAVA – FOUNDER & CHIEF \n",
      "EXECUTIVE OFFICER, LAURUS LABS LIMITED \n",
      "MR. V V RAVI KUMAR – EXECUTIVE DIRECTOR & \n",
      "CHIEF FINANCIAL OFFICER, LAURUS LABS LIMITED \n",
      "MR. VIVEK, INVESTOR RELATIONS TEAM, LAURUS \n",
      "LABS LIMITED \n",
      "MODERATOR: \n",
      "MR. MONISH SHAH – ANTIQUE STOCK BROKING\n"
     ]
    }
   ],
   "source": [
    "print(docs[1].page_content)"
   ]
  },
  {
   "cell_type": "code",
   "execution_count": 20,
   "id": "f679deaa",
   "metadata": {},
   "outputs": [
    {
     "name": "stdout",
     "output_type": "stream",
     "text": [
      "---\n",
      "Speaker: Monish Shah\n",
      "Order: 1\n",
      "Content: Thank you, Michelle. Good evening, everyone, and welcome to Laurus Labs 2Q & H1 Results \n",
      "Conference Call. On behalf of Antique Stock Broking, I thank the management for giving us the \n",
      "opportunity to host the call. \n",
      "Today, we have with us Dr. Satyanarayana Chava -- Founder and CEO; Mr. V V Ravi Kumar -\n",
      "- Executive Director and CFO, and Vivek from the IR team. \n",
      "I will hand the call over to Dr. Satya for his opening remarks. Thank you and over to you sir. ...\n",
      "---\n",
      "Speaker: Dr. Satyanarayana Chava\n",
      "Order: 2\n",
      "Content: Thank you, Monish for hosting this conference call. Thank you for joining us for our Q2 & H1 \n",
      "FY24 Results Conference Call. We're pleased to have this opportunity to update you on our \n",
      "progress and answer your questions. \n",
      "Our performance from Q2 started to see improvement and our priorities remain consistent. By \n",
      "focusing on R&D-led commercial strategy and customer-centric business orientation, we're \n",
      "advancing and augmenting our operational excellence to offer cutting-edge technology \n",
      "platforms in the manufacturing of small molecules, deliver the best external and internal \n",
      "opportunities as well as bringing innovative manufacturing solutions to companies and patients. \n",
      "We've executed on several important business development transactions last quarter and we are \n",
      "further accelerating our strategic manufacturing partnerships. \n",
      "We're also pleased to report that our investment into disruptive technology is progressing well. \n",
      "The first one is our investment in ImmunoACT CAR-T lead compound. NexCAR-19, which \n",
      "completed Phase-II trial for lymphoma and leukemia indication, has been granted marketing \n",
      "approval from CDSCO, Government of India. We feel it is a significant breakthrough and will \n",
      "be the India's first indigenous developed and manufactured cell therapy product for treating \n",
      "certain blood cancers. \n",
      "The second one is initiation of GLP Lab Construction for the manufacture of viral vectors and \n",
      "gene therapy products at IIT, Kanpur.\n",
      "Laurus Labs Limited \n",
      "October 20, 2023 \n",
      " \n",
      "The third one is increase in our stake in Laurus Bio, now 88%. This is a reflection to our \n",
      "confidence on great potential for future developments in enzyme technology platform. \n",
      "Currently, it's an exciting time at Laurus labs and we are determined to build on our R&D-driven \n",
      "commercial excellence to deliver best quality and affordable healthcare solutions as we seek to \n",
      "create a long-term value for both patients and our all stakeholders. \n",
      "Our Q2 results is in line and improved over Q1 due to recover ...\n",
      "---\n",
      "Speaker: V V Ravi Kumar\n",
      "Order: 3\n",
      "Content: Thank you, Dr. Satya and a very warm welcome to everyone for Q2 and H1 FY24 earnings call. \n",
      "Total income from operations for the H1 was Rs.2,406 crores as against Rs.3,115 crores. \n",
      "Excluding large PO, you're all aware that we have executed a large PO last year. The underlying \n",
      "business delivered growth of 14% for H1, whereas for the Q2 it was 18%. \n",
      "As you would notice that our quarter performance has recovered and we showed an improving \n",
      "momentum for majority of our business, also as Dr. Satya highlighted about the strong \n",
      "underlying demand across our growth pillars, we believe it will continue to support our outlook \n",
      "for the rest of the current fiscal. \n",
      "Gross margin for Q2 have improved at 52.5%. And if you look at EBITDA for Q2 FY24, is at \n",
      "Rs.188 crores with a margin of 15.4%, whereas for the first half it was Rs.356 crores with an \n",
      "EBITDA margin of 14.8%. The impact is primarily due to operational deleverage, lower CDMO \n",
      "business, and some of the new initiatives’ expenditure being incurred like CGT, etc., I think \n",
      "overall, we spent about Rs.16 crores on the new initiatives.\n",
      "Laurus Labs Limited \n",
      "October 20, 2023 \n",
      " \n",
      "Our diluted EPS for Q2 was 0.6 and for H1 it is 1.1 without any annualization. And our ROCE \n",
      "is at 11.4% due to operating deleverage and the strong capital deployments for the future growth. \n",
      "On the CAPEX front, we invested close to Rs.182 crores for the quarter and Rs.385 crores for \n",
      "the first H1. \n",
      "The board of directors recommended a dividend of 40 paise per share. \n",
      "As you are aware for FY24, the majority of CAPEX is for the synthesis and bio divisions and \n",
      "most of the expansion projects are on track to support our future growth...you can refer to our \n",
      "IR presentation for more details. \n",
      "With this, I would request the moderator to open the lines for Q&A. ...\n",
      "---\n",
      "Speaker: Moderator\n",
      "Order: 4\n",
      "Content: We will now begin the question-and-answer session. We'll take the first question from the line \n",
      "of Jeevan Patwa from Sahasrar Capital. Please go ahead. ...\n",
      "---\n",
      "Speaker: Jeevan Patwa\n",
      "Order: 5\n",
      "Content: Firstly, congratulations for market authorization for CAR-T technology. Just wanted to \n",
      "understand, now we have the authorization for India, what is our plan for other markets or other \n",
      "geography, is there any other geographies where we are conducting the clinical trials? ...\n"
     ]
    }
   ],
   "source": [
    "import re\n",
    "from langchain.schema import Document\n",
    "from utils.doc_parser import Pattern_extract\n",
    "\n",
    "litt = Pattern_extract(docs,management=participant_names)\n",
    "\n",
    "\n",
    "\n",
    "# Example: print first 5 conversations\n",
    "for d in litt[:5]:\n",
    "    print(\"---\")\n",
    "    print(\"Speaker:\", d.metadata[\"speaker\"])\n",
    "    print(\"Order:\", d.metadata[\"order\"])\n",
    "    print(\"Content:\", d.page_content[:2000], \"...\")\n"
   ]
  },
  {
   "cell_type": "code",
   "execution_count": 21,
   "id": "e55e2a78",
   "metadata": {},
   "outputs": [
    {
     "data": {
      "text/plain": [
       "[Document(metadata={'speaker': 'Monish Shah', 'order': 1}, page_content='Thank you, Michelle. Good evening, everyone, and welcome to Laurus Labs 2Q & H1 Results \\nConference Call. On behalf of Antique Stock Broking, I thank the management for giving us the \\nopportunity to host the call. \\nToday, we have with us Dr. Satyanarayana Chava -- Founder and CEO; Mr. V V Ravi Kumar -\\n- Executive Director and CFO, and Vivek from the IR team. \\nI will hand the call over to Dr. Satya for his opening remarks. Thank you and over to you sir.'),\n",
       " Document(metadata={'speaker': 'Dr. Satyanarayana Chava', 'order': 2}, page_content=\"Thank you, Monish for hosting this conference call. Thank you for joining us for our Q2 & H1 \\nFY24 Results Conference Call. We're pleased to have this opportunity to update you on our \\nprogress and answer your questions. \\nOur performance from Q2 started to see improvement and our priorities remain consistent. By \\nfocusing on R&D-led commercial strategy and customer-centric business orientation, we're \\nadvancing and augmenting our operational excellence to offer cutting-edge technology \\nplatforms in the manufacturing of small molecules, deliver the best external and internal \\nopportunities as well as bringing innovative manufacturing solutions to companies and patients. \\nWe've executed on several important business development transactions last quarter and we are \\nfurther accelerating our strategic manufacturing partnerships. \\nWe're also pleased to report that our investment into disruptive technology is progressing well. \\nThe first one is our investment in ImmunoACT CAR-T lead compound. NexCAR-19, which \\ncompleted Phase-II trial for lymphoma and leukemia indication, has been granted marketing \\napproval from CDSCO, Government of India. We feel it is a significant breakthrough and will \\nbe the India's first indigenous developed and manufactured cell therapy product for treating \\ncertain blood cancers. \\nThe second one is initiation of GLP Lab Construction for the manufacture of viral vectors and \\ngene therapy products at IIT, Kanpur.\\nLaurus Labs Limited \\nOctober 20, 2023 \\n \\nThe third one is increase in our stake in Laurus Bio, now 88%. This is a reflection to our \\nconfidence on great potential for future developments in enzyme technology platform. \\nCurrently, it's an exciting time at Laurus labs and we are determined to build on our R&D-driven \\ncommercial excellence to deliver best quality and affordable healthcare solutions as we seek to \\ncreate a long-term value for both patients and our all stakeholders. \\nOur Q2 results is in line and improved over Q1 due to recovery in customer supplies, which is \\ndriving higher revenues. While gross margins were maintained at very healthy level, our \\nEBITDA margins have clocked a modest recovery as higher upfront expenses and growth \\nprojects have weighed on our overall operating cost. It is important to keep in mind as well as \\nthat our year-on-year growth was subdued due to particularly strong quarter we had in FY23. \\nAs a result of these factors, our revenues were declined by 22% to Rs.1,224 crores and EBITDA \\ncame at Rs.188 crores with a margin of 15.4%. Our quarter-on-quarter growth is rebounding in \\nboth our API and formulations business, supported by strong underlying demand in other \\nsegments. \\nOur CDMO business project pipeline have continued to scale up along with the expansion of \\nour new partnerships. Our cost improvement programs are also progressing as expected. \\nFollowing the recovery, we saw in Q2, we remain optimistic for a better H2 resulting from both \\nhealthy order book and strong commercialization capabilities. \\nTo begin, I would like to share key updates on our formulations business. Our formulations \\ndivision reported overall revenues of Rs.332 crores for Q2, increasing over 120%. That was \\nbecause of low base last year. On sequential basis revenues have also improved by 16%. \\nMoreover, if you look at our H1, revenues increased by 24%. This was primarily driven by \\nrecovery in every business along with growth in our developed market share. \\nComing to LMIC business, overall market volumes have largely remained stable, partly \\nsupported from stable prices. We remain fully committed to stabilize our ARV franchise \\nbusiness throughout the FY24 and beyond while navigating the pricing headwinds. \\nWe awarded with 20% recent NACO tender for a supply of key products and this is our maiden \\nsuccessful bid in the Government of India tender for the supplies of HIV products in India. This \\nwas achieved primarily because of our fully backward integrated offering in ARV model. \\nWe have successfully implemented several cost improvement measures and we believe these \\nmeasures will sufficiently ensure our market readiness and confidence of sustaining leadership \\nposition in first line ARV treatment both in APIs and formulations. \\nComing to the developed markets, demand for our broader portfolio remain healthy. In US, we \\ncontinue to get good market share on several products and also increasing volumes.\\nLaurus Labs Limited \\nOctober 20, 2023 \\n \\nDuring H1, we filed one ANDA. Cumulatively, we have filed total 38 ANDAs to-date. Of this, \\nwe have 15 final approvals and 13 tentative approvals so far. \\nWe continue to have diverse portfolio and pipeline including novel 505(b)2 products comprising \\nof ARV, cardiovascular, diabetes, CNS, and gastrointestinal. \\nIn Canada, we have 21 filings with 13 product approvals, of which we have launched nine \\nproducts and we are intending to launch at least two more products during the second-half of \\nFY24. \\nFor EU markets, we have 18 filings with 14 product approvals, of which we already launched \\nsix products. We have continued to strengthen our CMO relationships and anticipate further \\nvolume increases in the coming quarters. \\nOur FDF division continue to operate most of the total commission capacity of 10 billion, in \\nwhich we anticipate that the remaining Brownfield capacities that we added in the last year \\nshould start to get optimally utilized by end of this year. \\nOn R&D front, overall R&D spending to sales for H1 FY24 was at 4.5%. We have incurred little \\nhigher R&D expenditure in this quarter as we acquired intellectual rights for few gene therapy \\nproducts from IIT, Kanpur. \\nWe continue to make good progress and invest in portfolio with product-specific approach based \\non complexity and scale economics. \\nWe have total 62 products in R&D pipeline with market size of over US$ 49 billion. \\nI would like to share the status of our filings as of now; 38 ANDAs in the US, 18 dossiers in \\nEurope, 21 products in Canada, nine dossiers with WSO, eight dossiers in South Africa, one in. \\nAustralia, while 20 dossiers filed in India, while several products were filed in various ROW \\nmarkets. \\nOverall R&D to sales of the full year is expected to be around 4.5%. \\nWhile coming to generic APIs, revenue from generic APIs during the Q2 declined by 8% year-\\non-year to Rs.629 crores. However, sequentially, it has improved by 5%. For H1, overall growth \\nwas flattish. \\nARV retained its volume-led steady momentum through Q2 and revenues moderated a bit, \\nattributing to an element of cyclicality in the ordering. \\nWe continue to maintain a leading market share in the first line HIV treatment-related APIs.\\nLaurus Labs Limited \\nOctober 20, 2023 \\n \\nIn the onco API space, the sales for the quarter rebounded and delivered a strong revenue \\nincrease over 100% year-on-year to Rs.117 crores. In H1, the growth is over 50%. This is \\nreflective of strong demand across our portfolio and favorable industry dynamics. We are \\naugmenting the new capacity for oncology products to accommodate the increased demand. \\nMore importantly, Laurus Labs, one of the largest high potent API capacities in the country. And \\nour aim to strengthen global leadership in some of the existing products by focusing on higher \\nvolumes and adding new potent molecules. \\nIn the other API segment, which includes cardiovascular, diabetes, asthma has slightly \\nrecovered, tracking only 2% growth quarter-on-quarter to Rs.139 crores. Recovery is muted on \\naccount of temporary market dynamics and scheduling patterns from our partners. On the year-\\non-year basis, revenues declined by 37%. We are confident that underlying demand for our \\nproducts remain strong and our CMO order book has continued to look very healthy. \\nIn first half this financial year, we have filed three DMF, out of those two are in non-ARV \\ncategory. With this company has a total of 83 DMF. \\nWhile coming to synthesis business during the Q2, the company CDMO business recorded \\nrevenues of Rs.224 crores, decline of almost 70% year-on-year. The revenues declined due to a \\nweak year-on-year comparison given large CDMO projects executed last year. Otherwise, the \\nbaseline business tracking healthy and project pipeline continues to scale up very well with our \\nexisting and new customers added in the last six months. \\nWe continue to execute on our scientific-led approach to customer acquisition and retention. We \\nare further strengthening and expanding our relationship with several big pharma. \\nWe remain focused on improving our integrated CDMO enabling technology platform to \\nachieve diversified revenue stream, ensuring stability and resilience. \\nWe are working on over 60 projects, out of this, there are 10 products, commercial, few APIs \\nand several intermediates. \\nWe made good progress on new science for CDMO division, both R&D Center and \\nmanufacturing facilities under LSPL. \\nOur animal health unit initiated commercial validations from this month and should gradually \\nscale up. R&D center is likely to get commissioned by the end of FY24. Our new animal health \\nsite will have all the capabilities to handle steroids, hormones and high potent molecules apart \\nfrom other large volume products. \\nIn Laurus Bio, we recorded strong growth for Q2 and H1; Q2 we grew the revenues by 44% and \\nH1 by 56%. The growth was led by attraction in CDMO services along with the expansion in\\nLaurus Labs Limited \\nOctober 20, 2023 \\n \\nour customer base. We're also optimizing our capacities with the large scale CDMO partners and \\nexpect increased downstream capacity to come on line by December '23. This unit will achieve \\nits peak revenues during FY25. \\nOur enhanced technical expertise and biocatalysis is expanding its application in several small \\nmolecule manufacturing where Laurus is utilizing this expertise to service big pharma. \\nProgress on our new Greenfield site at R3 is on track and we have completed the design phase. \\nWe expect the expansion to happen in a phased manner. This site should further strengthen \\nLaurus capabilities in offering CDMO services in animal origin free proteins and growth factors \\napart from large scale permutation. \\nLet me share brief on quality and EHS initiatives. We have continued to implement and operate \\nbest-in-class R&D, manufacturing and quality control systems in line with the highest global \\nstandards along with a comprehensive EHS management. This is enabled by our profound \\nscientific team of over 2,300 people embracing commitment to evolve to address new \\nopportunities. \\nDuring Q2, we implemented the project called “Sankalp” in association with DuPont \\nSustainability Solutions to further enhance organizational safety excellence. \\nDuring the H1 FY24, a total of 51 quality audits were undertaken, including several customer \\naudits. To-date since inception we have successfully passed 91 regulatory audits, including 40  \\naudits from major global regulatory agencies like USFDA, WHO, PMDA, TGA, EMA and \\nMHRA. \\nWith that, I would like to hand it over to Ravi to share some of the financial highlights.\"),\n",
       " Document(metadata={'speaker': 'V V Ravi Kumar', 'order': 3}, page_content=\"Thank you, Dr. Satya and a very warm welcome to everyone for Q2 and H1 FY24 earnings call. \\nTotal income from operations for the H1 was Rs.2,406 crores as against Rs.3,115 crores. \\nExcluding large PO, you're all aware that we have executed a large PO last year. The underlying \\nbusiness delivered growth of 14% for H1, whereas for the Q2 it was 18%. \\nAs you would notice that our quarter performance has recovered and we showed an improving \\nmomentum for majority of our business, also as Dr. Satya highlighted about the strong \\nunderlying demand across our growth pillars, we believe it will continue to support our outlook \\nfor the rest of the current fiscal. \\nGross margin for Q2 have improved at 52.5%. And if you look at EBITDA for Q2 FY24, is at \\nRs.188 crores with a margin of 15.4%, whereas for the first half it was Rs.356 crores with an \\nEBITDA margin of 14.8%. The impact is primarily due to operational deleverage, lower CDMO \\nbusiness, and some of the new initiatives’ expenditure being incurred like CGT, etc., I think \\noverall, we spent about Rs.16 crores on the new initiatives.\\nLaurus Labs Limited \\nOctober 20, 2023 \\n \\nOur diluted EPS for Q2 was 0.6 and for H1 it is 1.1 without any annualization. And our ROCE \\nis at 11.4% due to operating deleverage and the strong capital deployments for the future growth. \\nOn the CAPEX front, we invested close to Rs.182 crores for the quarter and Rs.385 crores for \\nthe first H1. \\nThe board of directors recommended a dividend of 40 paise per share. \\nAs you are aware for FY24, the majority of CAPEX is for the synthesis and bio divisions and \\nmost of the expansion projects are on track to support our future growth...you can refer to our \\nIR presentation for more details. \\nWith this, I would request the moderator to open the lines for Q&A.\"),\n",
       " Document(metadata={'speaker': 'Moderator', 'order': 4}, page_content=\"We will now begin the question-and-answer session. We'll take the first question from the line \\nof Jeevan Patwa from Sahasrar Capital. Please go ahead.\"),\n",
       " Document(metadata={'speaker': 'Jeevan Patwa', 'order': 5}, page_content='Firstly, congratulations for market authorization for CAR-T technology. Just wanted to \\nunderstand, now we have the authorization for India, what is our plan for other markets or other \\ngeography, is there any other geographies where we are conducting the clinical trials?'),\n",
       " Document(metadata={'speaker': 'Dr. Satyanarayana Chava', 'order': 6}, page_content=\"Currently, our associate company ImmunoACT has partnered with Mexican Minister of Health \\nand trials will be done in Mexico and We are in the process of finalizing some licensing deal \\nwith a European company. So, next year we expect clinical trials will start in Mexico for this \\nproduct, and in year 2025, clinical trials will also start in Europe. In Europe since the licensing \\ndeal is under negotiation, I can't give you more details, but there are some licensing deals being \\npursued by the company. Going back to your question, since the approval is obtained, we expect \\nto launch in the next few months in India, we are gearing up to do commercial manufacturing \\nwhile getting all the necessary licenses needed for India launch.\"),\n",
       " Document(metadata={'speaker': 'Jeevan Patwa', 'order': 7}, page_content='Is there any other type of cancer that you are working on… any solid tumor cancer?'),\n",
       " Document(metadata={'speaker': 'Dr. Satyanarayana Chava', 'order': 8}, page_content='There is one Clinical candidate is in pipeline which is in preclinical, will go to Phase-II in the \\nnext six months, that is BCMA. There is another asset which is in the early stage of research for \\nthe solid tumors.'),\n",
       " Document(metadata={'speaker': 'Jeevan Patwa', 'order': 9}, page_content='Just wanted to understand on this API and FDF side. So, we are talking about new CMO orders. \\nLast quarter we said we have tied up with few clients. This quarter, we are saying we have CMO \\norder, a healthy pipeline. So, can you elaborate more on this when will they are going to start… \\nso is it going to be in the second-half and how big they are? Because our API revenue has been \\nconstant since last many quarters now despite having expanded our capacities by more than 50%. \\nSo, when can we actually see this number ramping up on the API side actually, and then on the \\nFDF side as well? So, on this CMO order basically can you elaborate more?\\nLaurus Labs Limited \\nOctober 20, 2023'),\n",
       " Document(metadata={'speaker': 'Dr. Satyanarayana Chava', 'order': 10}, page_content=\"The CMO order we got from our partners for integrated manufacturing of API and formulations. \\nIf you recollect, we were talking about billion tablets CMO. That will increase to 1.5, 1.6 billion. \\nWe are qualifying the packaging lines also. Earlier, we used to do bulk packaging, now we are \\ndoing the secondary packaging as well. And then your question of our 50% capacity addition, \\nmajority addition, we have done for CDMO. So, as you're aware, in CDMO business, we have \\nto have patience because we have to deliver Phase-II, Phase-III and wait for the commercial \\nlaunch. So, I can assure you your company is in a good position to offer CDMO differentiation \\nwhen compared to other CDMO companies in India.\"),\n",
       " Document(metadata={'speaker': 'Moderator', 'order': 11}, page_content='The next question is from the line of Tushar Manudhane from Motilal Oswal Financial Services. \\nPlease go ahead.'),\n",
       " Document(metadata={'speaker': 'Tushar Manudhane', 'order': 12}, page_content='So just on the gross margin firstly on sequential basis, when the synthesis business has in fact \\nthere has been slight decline and formulations business has also been quite stable. So, if you \\ncould just explain the reason for better gross margin this quarter compared to previous quarter?'),\n",
       " Document(metadata={'speaker': 'Dr. Satyanarayana Chava', 'order': 13}, page_content='The better gross margin in this quarter is primarily because of improvements we have done \\nearlier were commercialized and also, we are operating our ARV facilities at full scale, that is \\nalso helping us to leverage.'),\n",
       " Document(metadata={'speaker': 'Tushar Manudhane', 'order': 14}, page_content='Considering the FY24 sales outlook and presumably significant chunk of the business coming \\nfrom CMO, CDMO side, as you have indicated in just the earlier commentary that the ARV-led \\nAPI and formulations could be stable, so does it mean that there should be a significant \\nimprovement further in the gross margin in the coming quarters?'),\n",
       " Document(metadata={'speaker': 'Dr. Satyanarayana Chava', 'order': 15}, page_content='The gross margin improvement, if you look at our second quarter FY23 was at 55% where our \\nrevenue was primarily driven by large CDMO orders. Yes, if the CDMO revenues pick up, the \\nmargins will slightly improve better.'),\n",
       " Document(metadata={'speaker': 'Tushar Manudhane', 'order': 16}, page_content='Means we can go back to 55%?'),\n",
       " Document(metadata={'speaker': 'Dr. Satyanarayana Chava', 'order': 17}, page_content=\"I'm not commenting, but with the revenue growth primarily driven by CDMO business, the \\nchances of increasing beyond the 52% what we have reported will certainly go up.\"),\n",
       " Document(metadata={'speaker': 'Moderator', 'order': 18}, page_content='The next question is from the line of Bharat from Quest Value Capitals. Please go ahead.'),\n",
       " Document(metadata={'speaker': 'Bharat', 'order': 19}, page_content='Recently, Andhra Pradesh Chief Minister has said groundbreaking for unit-7 in Vizag. May I \\nknow what is this unit-7?'),\n",
       " Document(metadata={'speaker': 'Dr. Satyanarayana Chava', 'order': 20}, page_content='New groundbreaking ceremony was done last week is primarily to add more capacity for \\nCDMO. We are making that common infrastructure for new CDMO sites.'),\n",
       " Document(metadata={'speaker': 'Bharat', 'order': 21}, page_content='This unit-7 for a specific customer or is it for generic -?\\nLaurus Labs Limited \\nOctober 20, 2023'),\n",
       " Document(metadata={'speaker': 'Dr. Satyanarayana Chava', 'order': 22}, page_content='There are two sites. We are creating common infrastructure and building one block in each of \\nthose to get the necessary regulatory approval so that that site also can be audited by big pharma \\nand we can able to service from that site as well.'),\n",
       " Document(metadata={'speaker': 'Bharat', 'order': 23}, page_content='May I know what is the CAPEX for FY25?'),\n",
       " Document(metadata={'speaker': 'Dr. Satyanarayana Chava', 'order': 24}, page_content='We will give you more details in the next quarter conference call about the new CAPEX in those \\nnew sites.'),\n",
       " Document(metadata={'speaker': 'Bharat', 'order': 25}, page_content=\"If you see in the presentation you said like this year would be a year of consolidation and the \\ntwo quarters back you said that a year of consolidation means you don't expect any degrowth. \\nMay I know what do you mean now with this a year of consolidation, do you expect any \\ndegrowth now?\"),\n",
       " Document(metadata={'speaker': 'Dr. Satyanarayana Chava', 'order': 26}, page_content='When we are saying this year will be a year of consolidation, that means we are adding a lot of \\ncapacity. If you look at in the last three years, we have added 3 million liters capacity and 5 \\nbillion tablets capacity. So, all those will be utilized in the next financial year onwards. There, a \\nlot of leverage will come. Currently, negative leverage is happening. We have capacities, we \\nhave people and we are only doing trial quantities. So, we are spending more than what we are \\nearning from those sites. So, once we do commercial manufacturing from those sites, you will \\nsee very healthy EBITDA margins and then return ratios.'),\n",
       " Document(metadata={'speaker': 'Moderator', 'order': 27}, page_content='The next question is from the line of Vivek Agrawal from Citigroup. Please go ahead.'),\n",
       " Document(metadata={'speaker': 'Vivek Agrawal', 'order': 28}, page_content='In API segment actually, we have seen a decent rebound and it is largely led by oncology. So, \\ncan you please call out what has driven this rebound and is it a broad-based or any product-\\nspecific contribution, any milestone income in oncology, etc., that would be helpful?'),\n",
       " Document(metadata={'speaker': 'Dr. Satyanarayana Chava', 'order': 29}, page_content=\"Thanks, Vivek. The growth in oncology business is also a pleasant surprise for us as well. Maybe \\nthe regulatory setbacks for some of the companies is helping us to gain market share, and as I \\nmentioned, we have the largest capacity in oncology, so we're able to capture that opportunity. \\nAnd if you look at our oncology API sale in H1, we have done Rs.171 crores and we have very, \\nvery good order book for H2. So, looks like we'll do very well in our oncology segment.\"),\n",
       " Document(metadata={'speaker': 'Vivek Agrawal', 'order': 30}, page_content='So, do you expect the current run rate can sustain in the coming quarters or in the next year as \\nwell?'),\n",
       " Document(metadata={'speaker': 'Dr. Satyanarayana Chava', 'order': 31}, page_content='We certainly believe so because we have order books well beyond Q4 this year.'),\n",
       " Document(metadata={'speaker': 'Vivek Agrawal', 'order': 32}, page_content='One question on FDF. How much of the business coming from US now, if you can help us \\nunderstand?'),\n",
       " Document(metadata={'speaker': 'Dr. Satyanarayana Chava', 'order': 33}, page_content='I can give you a number for North America. This year all put together, it could be $35-40 million\\nLaurus Labs Limited \\nOctober 20, 2023'),\n",
       " Document(metadata={'speaker': 'Vivek Agrawal', 'order': 34}, page_content=\"Just last question on synthesis business, right. So next few projects that we have in the segments \\nare largely in the animal health region or agchem, right. So, can you also talk a bit on human \\nhealth project, that's a bigger market, so is there any progress out there, has the company received \\nany mid or large-scale project of late\"),\n",
       " Document(metadata={'speaker': 'Dr. Satyanarayana Chava', 'order': 35}, page_content='In the synthesis, there are several projects in the clinical phase right now. We believe we are \\nwell positioned for several reasons. The one reason is we have capacity and our regulatory track \\nrecord is very good and we have scale and we have technical capabilities. See, nowadays we \\nhave capabilities from biocatalysis to continuous flow chemistry to very large-scale \\nhydrogenation, very low temperature reactions, very high temperature reactions. We are capable \\nof delivering wide variety of chemistries, that is also well appreciated by our partners. So, we \\nbelieve we are well positioned to get that opportunity.'),\n",
       " Document(metadata={'speaker': 'Moderator', 'order': 36}, page_content='The next question is from the line of Madhav from Fidelity. Please go ahead.'),\n",
       " Document(metadata={'speaker': 'Madhav', 'order': 37}, page_content='I just wanted to understand on the approval for the CAR-T therapy which we have received for \\nIndia. How big is the addressable market, like do we know how many patients there are in India \\nwhich can be addressed by this drug? And I was just reading some article online. They said that \\ntreatment cost is about 30 lakhs per patient per year. Is that like broadly a right number that we \\nshould understand?'),\n",
       " Document(metadata={'speaker': 'Dr. Satyanarayana Chava', 'order': 38}, page_content=\"We cannot give you the exact cost to the patient. We can only give you what is the product cost \\nwe are going to supply to the hospitals. It is between 30 to 40 lakhs. So, we don't have any \\ncontrol or estimation on how much it will cost to the patient. Our associate companies plan to \\nsell between 30 to 40 lakhs per treatment.\"),\n",
       " Document(metadata={'speaker': 'Madhav', 'order': 39}, page_content=\"What's the patient population in India, do we have any broad estimation for that?\"),\n",
       " Document(metadata={'speaker': 'Dr. Satyanarayana Chava', 'order': 40}, page_content=\"I don't have the right number with us, but currently, ImmunoACT geared up to deliver about 500 \\ntreatments per year from the current facility and also creating facility which will be ready by \\nMarch 2025 where we can deliver additional 2,500 treatments per year.\"),\n",
       " Document(metadata={'speaker': 'Madhav', 'order': 41}, page_content='Then just on the CDMO business, I think you have mentioned we have 62 active projects in the \\npipeline. Could you please help us understand like how many of these are Phase-II, Phase-III \\nand commercialized molecules, if you could share some split it will be very helpful.'),\n",
       " Document(metadata={'speaker': 'Dr. Satyanarayana Chava', 'order': 42}, page_content='As I mentioned in our presentation, we have about 10 commercial products, four APIs and other \\nadvanced intermediates and we have an additional 60 projects in various clinical stages.'),\n",
       " Document(metadata={'speaker': 'Madhav', 'order': 43}, page_content='My question is like if we have 10 commercialized projects, that should mean like good potential \\nas we go into next year, right, because we are building the capacity and if 10 of them are \\ncommercial, is that the right understanding?\\nLaurus Labs Limited \\nOctober 20, 2023'),\n",
       " Document(metadata={'speaker': 'Dr. Satyanarayana Chava', 'order': 44}, page_content=\"We have built capacity for commercial products already. The additional capacity, for example, \\nin animal health, we just started commercial validation from this month. Our crop science facility \\nis still under construction. While other human health projects where we are creating capacity, \\nwe are doing either Phase-II or Phase-III quantities. So, once we do those, we have to wait for \\ncertain time until we get the commercial orders. So, what we are envisaging, what we're also \\ntelling all our stakeholders, the company is well positioned because of the Greenfield \\ninfrastructure, our quality and our chemistry capabilities, the company is well positioned to take \\nthose opportunities.\"),\n",
       " Document(metadata={'speaker': 'Moderator', 'order': 45}, page_content='The next question is from the line of Krish Mehta from Enam Holdings. Please go ahead.'),\n",
       " Document(metadata={'speaker': 'Krish Mehta', 'order': 46}, page_content='My first question is if you could provide the split between your ARV and non-ARV revenue for \\nthis quarter on a consolidated basis?'),\n",
       " Document(metadata={'speaker': 'Dr. Satyanarayana Chava', 'order': 47}, page_content='ARV is 49%.'),\n",
       " Document(metadata={'speaker': 'Krish Mehta', 'order': 48}, page_content='Could you provide the split between your ARV FDF and non-ARV FDF for this quarter?'),\n",
       " Document(metadata={'speaker': 'Dr. Satyanarayana Chava', 'order': 49}, page_content=\"We have done about Rs.110 crores of non-ARV formulations. If you look at our split there, it is \\nslightly moving towards non-ARV products, that's what we are mentioning. The growth in \\nformulations also in the future quarters will only come from non-ARV.\"),\n",
       " Document(metadata={'speaker': 'Moderator', 'order': 50}, page_content='The next question is from the line of Ranvir Singh from Nuvama. Please go ahead.'),\n",
       " Document(metadata={'speaker': 'Ranvir Singh', 'order': 51}, page_content='My question is related to ImmunoACT. When we are expecting it to roll out in India?'),\n",
       " Document(metadata={'speaker': 'Dr. Satyanarayana Chava', 'order': 52}, page_content='We expect the rollout will happen in the next two months.'),\n",
       " Document(metadata={'speaker': 'Ranvir Singh', 'order': 53}, page_content='Do we have a plan to increase your stake there from 34%?'),\n",
       " Document(metadata={'speaker': 'Dr. Satyanarayana Chava', 'order': 54}, page_content=\"It's too early to say anything because they have enough capital to deploy and if they get approval \\nand that will also give some additional cash flow for them, we don't expect.\"),\n",
       " Document(metadata={'speaker': 'Ranvir Singh', 'order': 55}, page_content=\"In last quarter, we indicated that EBITDA margin may come back to around 25%-plus kind of a \\nnumber going forward. Because in first half that doesn't that seems a distant roll. So, any \\ncomment over here?\"),\n",
       " Document(metadata={'speaker': 'Dr. Satyanarayana Chava', 'order': 56}, page_content='Based on the current trend of growth in all segments, we expect the margins will be better when \\ncompared to the first half and we are very optimistic about second half of this financial year.'),\n",
       " Document(metadata={'speaker': 'Ranvir Singh', 'order': 57}, page_content='So overall for a full year, the margin can we expect in the range of 20% at least?'),\n",
       " Document(metadata={'speaker': 'Dr. Satyanarayana Chava', 'order': 58}, page_content=\"I can still say we'll improve beyond this 15% right now, yes.\\nLaurus Labs Limited \\nOctober 20, 2023\"),\n",
       " Document(metadata={'speaker': 'Ranvir Singh', 'order': 59}, page_content='Third on bio side, have you added any more products other than Trypsin in this division?'),\n",
       " Document(metadata={'speaker': 'Dr. Satyanarayana Chava', 'order': 60}, page_content='In bio, the majority revenue is driven by our CDMO partners. So, our revenue coming from \\nTrypsin and animal origin free ingredients is also growing, but major growth is coming from our \\nCDMO offerings there.'),\n",
       " Document(metadata={'speaker': 'Ranvir Singh', 'order': 61}, page_content='So, on a full year basis, what kind of potential we can see from this division?'),\n",
       " Document(metadata={'speaker': 'Dr. Satyanarayana Chava', 'order': 62}, page_content='The H1 bio is Rs.89 crores and the second half will also will be very similar to that, yes. We \\nexpect some more decrease in Q3 because of we are shutting down some of the facility for \\ndebottlenecking and where Q4 will rebound. So, that that division is doing very good as you \\nhave seen from our previous quarters. That is the reason we increase our stake in the company. \\nWe have lot of confidence on that business segment.'),\n",
       " Document(metadata={'speaker': 'Moderator', 'order': 63}, page_content='The next question is from the line of Sajal Kapoor, an individual investor. Please go ahead.'),\n",
       " Document(metadata={'speaker': 'Sajal Kapoor', 'order': 64}, page_content='My first question is, there is a quote from Henry Ford and I quote him, he said, “The only real \\nmistake is the one from which we learn nothing.” Do you believe Dr. Satya that failures can \\nsometimes lead to new opportunities or landing strips and provided the lessons are learned and \\ninternalized, and if yes, what examples from your own experience over the past year or so might \\nyou be able to share?'),\n",
       " Document(metadata={'speaker': 'Dr. Satyanarayana Chava', 'order': 65}, page_content='We have several examples. Our conviction put us into a very leadership position. For some \\nproducts where we failed to validate, some products we failed to get the right costing, but we \\ncontinue to invest on those products and we enjoyed the success, there are several examples for \\nthat. We cannot fail every time. So, we fail once, twice, but we eliminate the opportunities for \\nfailure significantly at every failure.'),\n",
       " Document(metadata={'speaker': 'Sajal Kapoor', 'order': 66}, page_content=\"My second question, Dr. Satya is, at a recent innovation conference in Cambridge, I heard a \\nquote from a member of pharmaceutical life sciences company that kind of keeps coming back \\nto me. The person asserted that possibility always produces uncertainty and fear of uncertainty \\nis a competitive advantage or mode that keeps their business safe from rivals or competition. \\nAnd they claim that if something is too simple to discover or develop, then anybody and \\neverybody will eventually get involved in the field of delivering or developing new drugs. So, \\nthe uncertainty is kind of a mode that protects their business, that was their hypothesis. I mean, \\nwhat's your sense on this, if you can please?\"),\n",
       " Document(metadata={'speaker': 'Dr. Satyanarayana Chava', 'order': 67}, page_content=\"We can give you on our recent success. Our investment in cell therapy is a lot of uncertainties \\naround that discovery and development. So many people don't go into that. That's one way we \\nhad enjoyed success. The second is not many people are investing in gene therapy because of \\nlack of talent, lack of understanding of that segment, we invested there. But it will take some \\ntime for us to enjoy success in gene therapy. When it comes to the CDMO, what you said is \\nabsolutely right. How many companies in India have created three million liters of new capacity\\nLaurus Labs Limited \\nOctober 20, 2023 \\n \\nin the last three years? Not many. How many companies have scale at which we are operating? \\nHow many companies are having fully integrated development, that means from enzyme design, \\nenzyme manufacturing to biocatalysis to large scale hydrogenations, flow chemistry and all. So, \\nwe are creating competitive advantage by investing ahead of the time, that is our success mantra, \\nthat's we are saying many a time and you pointed out very well. So, the fear of failure will \\nprevent many people to invest, yes.\"),\n",
       " Document(metadata={'speaker': 'Sajal Kapoor', 'order': 68}, page_content=\"Dr. Satya, one question on regulatory uncertainty. What else could potentially harm or \\ndisappoint shareholders in the medium term, let's say next two to three years when it comes to \\nthe uncertainty that we have on the regulatory front, it could be USFDA audit, it could be some \\nunexpected development, anything on your horizon that we have to be guarded against?\"),\n",
       " Document(metadata={'speaker': 'Dr. Satyanarayana Chava', 'order': 69}, page_content=\"We have derisked significantly, but we can't say 100%. We have multiple facilities now. We are \\noperating in multiple regions. So, we have our bio division in Bangalore, Tumkur and Mysore. \\nWe have our R&D in Hyderabad, Telangana. We have API facilities in Vizag, Andhra Pradesh. \\nWe have our associate company in Mumbai. And we have our cell and gene therapy facility \\nbeing created at Kanpur. So, we have diversified significantly regional wise also. And second \\nwhen it comes to regulatory inspections, you have seen our impeccable track record there and \\nwe expect to maintain that.\"),\n",
       " Document(metadata={'speaker': 'Moderator', 'order': 70}, page_content='We will take the next question from the line of Saurabh Kapadia from Sundaram Mutual Fund. \\nPlease go ahead.'),\n",
       " Document(metadata={'speaker': 'Saurabh Kapadia', 'order': 71}, page_content=\"The outlook for second-half and '25 looks positive. So, will it be driven by more of the animal \\nhealth project or the current commercialized molecule has the scope to drive it further, is there \\nany large molecule or the molecule where there's a large opportunity in the current \\ncommercialized molecule as well?\"),\n",
       " Document(metadata={'speaker': 'Dr. Satyanarayana Chava', 'order': 72}, page_content='Our optimism in second-half is primarily driven by increased sales in API, ARV, increased sales \\nin oncology, increased sales in formulations, and also increased sales in CDMO, it is driven by \\nall segments.'),\n",
       " Document(metadata={'speaker': 'Saurabh Kapadia', 'order': 73}, page_content='On synthesis side, will it be the animal health project only or the current commercial molecules \\nalso should the ARV growth as well?'),\n",
       " Document(metadata={'speaker': 'Dr. Satyanarayana Chava', 'order': 74}, page_content=\"We are not expecting any new commercial sales during the second-half. We're only anticipating \\na supply of Phase-II, Phase-III quantities in the second-half.\"),\n",
       " Document(metadata={'speaker': 'Moderator', 'order': 75}, page_content='The next question is from the line of Nitin Agarwal from DAM Capital. Please go ahead.'),\n",
       " Document(metadata={'speaker': 'Nitin Agarwal', 'order': 76}, page_content='Just following up, sir, on the synthesis question, after the second-half, you mentioned the animal \\nhealth business begins to scale up. When is the agrichem business contract largely to scale up \\nfor us\\nLaurus Labs Limited \\nOctober 20, 2023'),\n",
       " Document(metadata={'speaker': 'Dr. Satyanarayana Chava', 'order': 77}, page_content='That will be in the second-half of FY25.'),\n",
       " Document(metadata={'speaker': 'Nitin Agarwal', 'order': 78}, page_content='Sir, beyond these two contracts, are there any major milestones for the segment that we can we \\ncan sort of look forward to?'),\n",
       " Document(metadata={'speaker': 'Dr. Satyanarayana Chava', 'order': 79}, page_content=\"We are working on some R&D projects with partner, but we don't expect commercial sales in \\nthe next 12 to 18 months, yes. As you are aware, we are working with one of the top leading \\ncrop science companies. So, we have lot of potential to grow, but we are also cautious not to \\novercommit and underdeliver. We are taking projects what we can deliver. So, our current \\nchallenge is also lot of CAPEX projects going on. So, we are also cautious on where to invest, \\nhow much to invest.\"),\n",
       " Document(metadata={'speaker': 'Nitin Agarwal', 'order': 80}, page_content='So, sir, is the understanding right that animal health will contribute this second-half of this year, \\nagrochemicals product will contribute in second-half of next year, and I guess there is not much \\nof incremental large contract is likely to contribute in the human health over the next at least 18 \\nmonths?'),\n",
       " Document(metadata={'speaker': 'Dr. Satyanarayana Chava', 'order': 81}, page_content='I said next six months.'),\n",
       " Document(metadata={'speaker': 'Nitin Agarwal', 'order': 82}, page_content='So, do you expect some commercialization of human health business also in FY25?'),\n",
       " Document(metadata={'speaker': 'Dr. Satyanarayana Chava', 'order': 83}, page_content=\"I can't give more specific, but there are products which will go from Phase-II to Phase-III next \\nyear.\"),\n",
       " Document(metadata={'speaker': 'Nitin Agarwal', 'order': 84}, page_content='Sir, this $100 million ongoing CAPEX in synthesis, by when do you see it is reasonably utilized?'),\n",
       " Document(metadata={'speaker': 'Dr. Satyanarayana Chava', 'order': 85}, page_content='Mid of next financial year onwards.'),\n",
       " Document(metadata={'speaker': 'Nitin Agarwal', 'order': 86}, page_content='Sir, lastly on the FDF business this quarter, what was the component of non-ARV business in \\nthat?'),\n",
       " Document(metadata={'speaker': 'Dr. Satyanarayana Chava', 'order': 87}, page_content='Rs.105 crores are non-ARV business from formulations.'),\n",
       " Document(metadata={'speaker': 'Nitin Agarwal', 'order': 88}, page_content='And sir, lastly, on the other APIs, how should we think about this business growth from a 12 to \\n18 months perspective?'),\n",
       " Document(metadata={'speaker': 'Dr. Satyanarayana Chava', 'order': 89}, page_content='Non-ARV formulations potential is very high. In ARV, API as well as formulations, we will \\nhave a threshold, we will not go beyond that because the number of patients is also plateauing \\nin the African region. We anticipate both ARVs APIs and formulations will also attain its peak \\nrevenues soon maybe. So, the growth in both APIs growth, in formulations will come from non-\\nAPI, non-ARV formulations.\\nLaurus Labs Limited \\nOctober 20, 2023'),\n",
       " Document(metadata={'speaker': 'Nitin Agarwal', 'order': 90}, page_content='What will be the drivers for this growth, any specific molecules or therapies or it could be broad-\\nbased growth over here?'),\n",
       " Document(metadata={'speaker': 'Dr. Satyanarayana Chava', 'order': 91}, page_content='Our new approvals in US, our new contract manufacturing deals in APIs and formulations, our \\nonco sales are growing, our non-ARV, non-onco API sales are growing. So, there are a lot of \\navenues for us to grow there.'),\n",
       " Document(metadata={'speaker': 'Nitin Agarwal', 'order': 92}, page_content='On this ImmunoACT business, apart from the financial stake that we have, what other role do \\nwe have in this partnership?'),\n",
       " Document(metadata={'speaker': 'Dr. Satyanarayana Chava', 'order': 93}, page_content='We have two board membership there and we help them in thinking at about scale, some strategic \\ninputs. Beyond that we are not involved in the. day-to-day operations there.'),\n",
       " Document(metadata={'speaker': 'Nitin Agarwal', 'order': 94}, page_content='Any role in the manufacturing?'),\n",
       " Document(metadata={'speaker': 'Dr. Satyanarayana Chava', 'order': 95}, page_content='No. But in IIT, Kanpur we are operating our own facility there. So, just on the contrary to  \\nImmunoACT,  In gene therapy, we are going to operate our own facilities.'),\n",
       " Document(metadata={'speaker': 'Moderator', 'order': 96}, page_content='The next question is from the line of Rohit Jain from Tara Capital Partners. Please go ahead.'),\n",
       " Document(metadata={'speaker': 'Rohit Jain', 'order': 97}, page_content='So, on the last call, you said that you expect improvement in the synthesis business from the \\nnext quarter onwards and this quarter that we have seen that that particular division has degrown \\nby 10% sequentially. So, can you help us understand what changed within three months and \\nwhat is the outlook for this particular division going forward?'),\n",
       " Document(metadata={'speaker': 'Dr. Satyanarayana Chava', 'order': 98}, page_content='See, CDMO, supplies, timelines all depends on what our partner is requesting. Sometimes if the \\npartner asks deliveries in the next quarter, we have to deliver when he needs. So those kinds of \\nuncertainties will be at CDMO. But, our customer list is increasing, our project list is increasing. \\nThat is the reason we are also very confident on this segment.'),\n",
       " Document(metadata={'speaker': 'Rohit Jain', 'order': 99}, page_content=\"No, I understand. The reason I ask that is on the last call you said that there was some deferment \\nand that's why the first quarter number was lower and you expect improvement sequentially. So, \\nshould we understand that there was some further deferral?\"),\n",
       " Document(metadata={'speaker': 'Dr. Satyanarayana Chava', 'order': 100}, page_content=\"Yes, that's the reason we didn't have any sequential growth.\"),\n",
       " Document(metadata={'speaker': 'Rohit Jain', 'order': 101}, page_content='This was asked earlier on the call. Just wanted to confirm that. So, you said that this is the year \\nof consolidation which earlier sort of indicated that you expected flat EPS YoY given the \\nperformance in 1H that seems like a difficult task. So, how should we think of that qualitative \\nguidance of this year of consolidation in terms of financial?'),\n",
       " Document(metadata={'speaker': 'Dr. Satyanarayana Chava', 'order': 102}, page_content=\"We're not giving guidance, but as we mentioned, this is exciting times for us in the company, \\nthat means we have many prospects, many exciting projects and things are in a good shape. So,\\nLaurus Labs Limited \\nOctober 20, 2023 \\n \\nthat is the reason we are investing into the future. That's my answer for this, yes. We can't give \\nyou guidance right now.\"),\n",
       " Document(metadata={'speaker': 'Rohit Jain', 'order': 103}, page_content=\"For the CDMO CAPEX and for the size that you're preparing, what sort of asset turns should we \\nthink of, the broad range like the high and the low?\"),\n",
       " Document(metadata={'speaker': 'Dr. Satyanarayana Chava', 'order': 104}, page_content='I will give you a very broad number. It varies between one and two asset turn, all depends on \\nthe project, yes.'),\n",
       " Document(metadata={'speaker': 'Moderator', 'order': 105}, page_content='The next question is from the line of Abhijeet K from PCL. Please go ahead.'),\n",
       " Document(metadata={'speaker': 'Abhijeet K', 'order': 106}, page_content=\"First, I'd like to ask a question with regards to the revenue base. I'm looking at the presentation, \\nI see that there is a sequential increase in the revenue removing the r CDMO base of the previous \\ncontract which is Paxlovid . How do you see the revenues growing over the next two quarters \\nand also in the next one year?\"),\n",
       " Document(metadata={'speaker': 'Dr. Satyanarayana Chava', 'order': 107}, page_content=\"In the synthesis, if you look at the overall year, last year was lot of commercial supplies \\nhappened. This year, we don't have any commercial supplies, but we hope next year will be \\nagain a good year for a CDMO, some of the projects are moving into the late clinical phase or \\ncommercial. So, things will be in a good shape next year.\"),\n",
       " Document(metadata={'speaker': 'Abhijeet K', 'order': 108}, page_content=\"Next part is with regards to the CDMO. You've mentioned that one is going to be the animal \\nAPI business that is going to come into place and the other is the agrochemical. Do you see that \\nthis is going to be a structural change in the company where you're going to be diversifying not \\nonly from a pharma-based thing and diversify into other revenue streams like agri and also \\nalternative sectors?\"),\n",
       " Document(metadata={'speaker': 'Dr. Satyanarayana Chava', 'order': 109}, page_content=\"The animal health is a contract signed with one customer for good chunk of products. And in \\ncrop sciences, we have signed one development agreement and we'll also sign a second \\ncommercial agreement soon. So, our CDMO comprises of human health, animal health, some \\ncosmetic ingredients we are doing. So that way, our CDMO division is well diversified when \\ncompared to many other CDMOs, yes.\"),\n",
       " Document(metadata={'speaker': 'Moderator', 'order': 110}, page_content=\"We'll take the next question from the line of Aditya Sen from RoboCapital. Please go ahead.\"),\n",
       " Document(metadata={'speaker': 'Aditya Sen', 'order': 111}, page_content=\"Once we start utilizing our new facilities, let's say by late FY25 or even FY26, then will we be \\nable to get back to the previous high range that is plus 25% range of EBITDA?\"),\n",
       " Document(metadata={'speaker': 'Dr. Satyanarayana Chava', 'order': 112}, page_content=\"This is a very interesting question, but we can promise you we will get closer to 30%, but I will \\nnot tell you which year. Our growth, our revenue contribution significantly tilts towards CDMO, \\nI'm sure we have an opportunity to take our EBITDA back to around 30% level.\\nLaurus Labs Limited \\nOctober 20, 2023\"),\n",
       " Document(metadata={'speaker': 'Moderator', 'order': 113}, page_content=\"Ladies and gentlemen, we'll take that as the last question for today. I would now like to hand the \\nconference over to the management for closing comments. Over to you.\"),\n",
       " Document(metadata={'speaker': 'Dr. Satyanarayana Chava', 'order': 114}, page_content=\"Thank you, Monish for organizing this call and thank you our stakeholders who have a lot of \\nconfidence on us and I'm sure we will meet your expectations as we continue to commit \\nourselves to bring cutting edge technologies and servicing customers with our wide range of \\nchemistry offerings.\"),\n",
       " Document(metadata={'speaker': 'Moderator', 'order': 115}, page_content='Thank you, members of the management. Ladies and gentlemen, on behalf of Antique Stock \\nBroking, that concludes this conference. We thank you for joining us and you may now \\ndisconnect your lines.')]"
      ]
     },
     "execution_count": 21,
     "metadata": {},
     "output_type": "execute_result"
    }
   ],
   "source": [
    "litt"
   ]
  },
  {
   "cell_type": "code",
   "execution_count": 22,
   "id": "2337208b",
   "metadata": {},
   "outputs": [],
   "source": [
    "import re\n",
    "\n",
    "def split_docs_into_sections(litt):\n",
    "    remarks = []\n",
    "    action_qa = []\n",
    "    final = []\n",
    "\n",
    "\n",
    "    qa_start_pattern = re.compile(r\"The first question\", re.I)\n",
    "\n",
    "    section = \"Remarks\"\n",
    "\n",
    "    for doc in litt:\n",
    "        speaker = doc.metadata.get(\"speaker\", \"\").strip()\n",
    "        content = doc.page_content.strip()\n",
    "\n",
    "\n",
    "        # Check if Q&A starts\n",
    "        if section == \"Remarks\" and qa_start_pattern.search(content):\n",
    "            section = \"Action Q&A\"\n",
    "\n",
    "        # Append to the right section\n",
    "        if section == \"Remarks\":\n",
    "            if speaker.lower() != \"moderator\":  # Skip Moderator in Remarks\n",
    "                remarks.append(doc)\n",
    "        elif section == \"Action Q&A\":\n",
    "            if speaker.lower() != \"moderator\":\n",
    "                action_qa.append(doc)\n",
    "\n",
    "    return remarks, action_qa\n"
   ]
  },
  {
   "cell_type": "code",
   "execution_count": 23,
   "id": "c9e1f4d1",
   "metadata": {},
   "outputs": [],
   "source": [
    "rem, act,  = split_docs_into_sections(litt)"
   ]
  },
  {
   "cell_type": "code",
   "execution_count": 24,
   "id": "2828c05d",
   "metadata": {},
   "outputs": [
    {
     "data": {
      "text/plain": [
       "[Document(metadata={'speaker': 'Monish Shah', 'order': 1}, page_content='Thank you, Michelle. Good evening, everyone, and welcome to Laurus Labs 2Q & H1 Results \\nConference Call. On behalf of Antique Stock Broking, I thank the management for giving us the \\nopportunity to host the call. \\nToday, we have with us Dr. Satyanarayana Chava -- Founder and CEO; Mr. V V Ravi Kumar -\\n- Executive Director and CFO, and Vivek from the IR team. \\nI will hand the call over to Dr. Satya for his opening remarks. Thank you and over to you sir.'),\n",
       " Document(metadata={'speaker': 'Dr. Satyanarayana Chava', 'order': 2}, page_content=\"Thank you, Monish for hosting this conference call. Thank you for joining us for our Q2 & H1 \\nFY24 Results Conference Call. We're pleased to have this opportunity to update you on our \\nprogress and answer your questions. \\nOur performance from Q2 started to see improvement and our priorities remain consistent. By \\nfocusing on R&D-led commercial strategy and customer-centric business orientation, we're \\nadvancing and augmenting our operational excellence to offer cutting-edge technology \\nplatforms in the manufacturing of small molecules, deliver the best external and internal \\nopportunities as well as bringing innovative manufacturing solutions to companies and patients. \\nWe've executed on several important business development transactions last quarter and we are \\nfurther accelerating our strategic manufacturing partnerships. \\nWe're also pleased to report that our investment into disruptive technology is progressing well. \\nThe first one is our investment in ImmunoACT CAR-T lead compound. NexCAR-19, which \\ncompleted Phase-II trial for lymphoma and leukemia indication, has been granted marketing \\napproval from CDSCO, Government of India. We feel it is a significant breakthrough and will \\nbe the India's first indigenous developed and manufactured cell therapy product for treating \\ncertain blood cancers. \\nThe second one is initiation of GLP Lab Construction for the manufacture of viral vectors and \\ngene therapy products at IIT, Kanpur.\\nLaurus Labs Limited \\nOctober 20, 2023 \\n \\nThe third one is increase in our stake in Laurus Bio, now 88%. This is a reflection to our \\nconfidence on great potential for future developments in enzyme technology platform. \\nCurrently, it's an exciting time at Laurus labs and we are determined to build on our R&D-driven \\ncommercial excellence to deliver best quality and affordable healthcare solutions as we seek to \\ncreate a long-term value for both patients and our all stakeholders. \\nOur Q2 results is in line and improved over Q1 due to recovery in customer supplies, which is \\ndriving higher revenues. While gross margins were maintained at very healthy level, our \\nEBITDA margins have clocked a modest recovery as higher upfront expenses and growth \\nprojects have weighed on our overall operating cost. It is important to keep in mind as well as \\nthat our year-on-year growth was subdued due to particularly strong quarter we had in FY23. \\nAs a result of these factors, our revenues were declined by 22% to Rs.1,224 crores and EBITDA \\ncame at Rs.188 crores with a margin of 15.4%. Our quarter-on-quarter growth is rebounding in \\nboth our API and formulations business, supported by strong underlying demand in other \\nsegments. \\nOur CDMO business project pipeline have continued to scale up along with the expansion of \\nour new partnerships. Our cost improvement programs are also progressing as expected. \\nFollowing the recovery, we saw in Q2, we remain optimistic for a better H2 resulting from both \\nhealthy order book and strong commercialization capabilities. \\nTo begin, I would like to share key updates on our formulations business. Our formulations \\ndivision reported overall revenues of Rs.332 crores for Q2, increasing over 120%. That was \\nbecause of low base last year. On sequential basis revenues have also improved by 16%. \\nMoreover, if you look at our H1, revenues increased by 24%. This was primarily driven by \\nrecovery in every business along with growth in our developed market share. \\nComing to LMIC business, overall market volumes have largely remained stable, partly \\nsupported from stable prices. We remain fully committed to stabilize our ARV franchise \\nbusiness throughout the FY24 and beyond while navigating the pricing headwinds. \\nWe awarded with 20% recent NACO tender for a supply of key products and this is our maiden \\nsuccessful bid in the Government of India tender for the supplies of HIV products in India. This \\nwas achieved primarily because of our fully backward integrated offering in ARV model. \\nWe have successfully implemented several cost improvement measures and we believe these \\nmeasures will sufficiently ensure our market readiness and confidence of sustaining leadership \\nposition in first line ARV treatment both in APIs and formulations. \\nComing to the developed markets, demand for our broader portfolio remain healthy. In US, we \\ncontinue to get good market share on several products and also increasing volumes.\\nLaurus Labs Limited \\nOctober 20, 2023 \\n \\nDuring H1, we filed one ANDA. Cumulatively, we have filed total 38 ANDAs to-date. Of this, \\nwe have 15 final approvals and 13 tentative approvals so far. \\nWe continue to have diverse portfolio and pipeline including novel 505(b)2 products comprising \\nof ARV, cardiovascular, diabetes, CNS, and gastrointestinal. \\nIn Canada, we have 21 filings with 13 product approvals, of which we have launched nine \\nproducts and we are intending to launch at least two more products during the second-half of \\nFY24. \\nFor EU markets, we have 18 filings with 14 product approvals, of which we already launched \\nsix products. We have continued to strengthen our CMO relationships and anticipate further \\nvolume increases in the coming quarters. \\nOur FDF division continue to operate most of the total commission capacity of 10 billion, in \\nwhich we anticipate that the remaining Brownfield capacities that we added in the last year \\nshould start to get optimally utilized by end of this year. \\nOn R&D front, overall R&D spending to sales for H1 FY24 was at 4.5%. We have incurred little \\nhigher R&D expenditure in this quarter as we acquired intellectual rights for few gene therapy \\nproducts from IIT, Kanpur. \\nWe continue to make good progress and invest in portfolio with product-specific approach based \\non complexity and scale economics. \\nWe have total 62 products in R&D pipeline with market size of over US$ 49 billion. \\nI would like to share the status of our filings as of now; 38 ANDAs in the US, 18 dossiers in \\nEurope, 21 products in Canada, nine dossiers with WSO, eight dossiers in South Africa, one in. \\nAustralia, while 20 dossiers filed in India, while several products were filed in various ROW \\nmarkets. \\nOverall R&D to sales of the full year is expected to be around 4.5%. \\nWhile coming to generic APIs, revenue from generic APIs during the Q2 declined by 8% year-\\non-year to Rs.629 crores. However, sequentially, it has improved by 5%. For H1, overall growth \\nwas flattish. \\nARV retained its volume-led steady momentum through Q2 and revenues moderated a bit, \\nattributing to an element of cyclicality in the ordering. \\nWe continue to maintain a leading market share in the first line HIV treatment-related APIs.\\nLaurus Labs Limited \\nOctober 20, 2023 \\n \\nIn the onco API space, the sales for the quarter rebounded and delivered a strong revenue \\nincrease over 100% year-on-year to Rs.117 crores. In H1, the growth is over 50%. This is \\nreflective of strong demand across our portfolio and favorable industry dynamics. We are \\naugmenting the new capacity for oncology products to accommodate the increased demand. \\nMore importantly, Laurus Labs, one of the largest high potent API capacities in the country. And \\nour aim to strengthen global leadership in some of the existing products by focusing on higher \\nvolumes and adding new potent molecules. \\nIn the other API segment, which includes cardiovascular, diabetes, asthma has slightly \\nrecovered, tracking only 2% growth quarter-on-quarter to Rs.139 crores. Recovery is muted on \\naccount of temporary market dynamics and scheduling patterns from our partners. On the year-\\non-year basis, revenues declined by 37%. We are confident that underlying demand for our \\nproducts remain strong and our CMO order book has continued to look very healthy. \\nIn first half this financial year, we have filed three DMF, out of those two are in non-ARV \\ncategory. With this company has a total of 83 DMF. \\nWhile coming to synthesis business during the Q2, the company CDMO business recorded \\nrevenues of Rs.224 crores, decline of almost 70% year-on-year. The revenues declined due to a \\nweak year-on-year comparison given large CDMO projects executed last year. Otherwise, the \\nbaseline business tracking healthy and project pipeline continues to scale up very well with our \\nexisting and new customers added in the last six months. \\nWe continue to execute on our scientific-led approach to customer acquisition and retention. We \\nare further strengthening and expanding our relationship with several big pharma. \\nWe remain focused on improving our integrated CDMO enabling technology platform to \\nachieve diversified revenue stream, ensuring stability and resilience. \\nWe are working on over 60 projects, out of this, there are 10 products, commercial, few APIs \\nand several intermediates. \\nWe made good progress on new science for CDMO division, both R&D Center and \\nmanufacturing facilities under LSPL. \\nOur animal health unit initiated commercial validations from this month and should gradually \\nscale up. R&D center is likely to get commissioned by the end of FY24. Our new animal health \\nsite will have all the capabilities to handle steroids, hormones and high potent molecules apart \\nfrom other large volume products. \\nIn Laurus Bio, we recorded strong growth for Q2 and H1; Q2 we grew the revenues by 44% and \\nH1 by 56%. The growth was led by attraction in CDMO services along with the expansion in\\nLaurus Labs Limited \\nOctober 20, 2023 \\n \\nour customer base. We're also optimizing our capacities with the large scale CDMO partners and \\nexpect increased downstream capacity to come on line by December '23. This unit will achieve \\nits peak revenues during FY25. \\nOur enhanced technical expertise and biocatalysis is expanding its application in several small \\nmolecule manufacturing where Laurus is utilizing this expertise to service big pharma. \\nProgress on our new Greenfield site at R3 is on track and we have completed the design phase. \\nWe expect the expansion to happen in a phased manner. This site should further strengthen \\nLaurus capabilities in offering CDMO services in animal origin free proteins and growth factors \\napart from large scale permutation. \\nLet me share brief on quality and EHS initiatives. We have continued to implement and operate \\nbest-in-class R&D, manufacturing and quality control systems in line with the highest global \\nstandards along with a comprehensive EHS management. This is enabled by our profound \\nscientific team of over 2,300 people embracing commitment to evolve to address new \\nopportunities. \\nDuring Q2, we implemented the project called “Sankalp” in association with DuPont \\nSustainability Solutions to further enhance organizational safety excellence. \\nDuring the H1 FY24, a total of 51 quality audits were undertaken, including several customer \\naudits. To-date since inception we have successfully passed 91 regulatory audits, including 40  \\naudits from major global regulatory agencies like USFDA, WHO, PMDA, TGA, EMA and \\nMHRA. \\nWith that, I would like to hand it over to Ravi to share some of the financial highlights.\"),\n",
       " Document(metadata={'speaker': 'V V Ravi Kumar', 'order': 3}, page_content=\"Thank you, Dr. Satya and a very warm welcome to everyone for Q2 and H1 FY24 earnings call. \\nTotal income from operations for the H1 was Rs.2,406 crores as against Rs.3,115 crores. \\nExcluding large PO, you're all aware that we have executed a large PO last year. The underlying \\nbusiness delivered growth of 14% for H1, whereas for the Q2 it was 18%. \\nAs you would notice that our quarter performance has recovered and we showed an improving \\nmomentum for majority of our business, also as Dr. Satya highlighted about the strong \\nunderlying demand across our growth pillars, we believe it will continue to support our outlook \\nfor the rest of the current fiscal. \\nGross margin for Q2 have improved at 52.5%. And if you look at EBITDA for Q2 FY24, is at \\nRs.188 crores with a margin of 15.4%, whereas for the first half it was Rs.356 crores with an \\nEBITDA margin of 14.8%. The impact is primarily due to operational deleverage, lower CDMO \\nbusiness, and some of the new initiatives’ expenditure being incurred like CGT, etc., I think \\noverall, we spent about Rs.16 crores on the new initiatives.\\nLaurus Labs Limited \\nOctober 20, 2023 \\n \\nOur diluted EPS for Q2 was 0.6 and for H1 it is 1.1 without any annualization. And our ROCE \\nis at 11.4% due to operating deleverage and the strong capital deployments for the future growth. \\nOn the CAPEX front, we invested close to Rs.182 crores for the quarter and Rs.385 crores for \\nthe first H1. \\nThe board of directors recommended a dividend of 40 paise per share. \\nAs you are aware for FY24, the majority of CAPEX is for the synthesis and bio divisions and \\nmost of the expansion projects are on track to support our future growth...you can refer to our \\nIR presentation for more details. \\nWith this, I would request the moderator to open the lines for Q&A.\")]"
      ]
     },
     "execution_count": 24,
     "metadata": {},
     "output_type": "execute_result"
    }
   ],
   "source": [
    "rem"
   ]
  },
  {
   "cell_type": "code",
   "execution_count": 25,
   "id": "9c2f5fce",
   "metadata": {},
   "outputs": [
    {
     "data": {
      "text/plain": [
       "[Document(metadata={'speaker': 'Jeevan Patwa', 'order': 5}, page_content='Firstly, congratulations for market authorization for CAR-T technology. Just wanted to \\nunderstand, now we have the authorization for India, what is our plan for other markets or other \\ngeography, is there any other geographies where we are conducting the clinical trials?'),\n",
       " Document(metadata={'speaker': 'Dr. Satyanarayana Chava', 'order': 6}, page_content=\"Currently, our associate company ImmunoACT has partnered with Mexican Minister of Health \\nand trials will be done in Mexico and We are in the process of finalizing some licensing deal \\nwith a European company. So, next year we expect clinical trials will start in Mexico for this \\nproduct, and in year 2025, clinical trials will also start in Europe. In Europe since the licensing \\ndeal is under negotiation, I can't give you more details, but there are some licensing deals being \\npursued by the company. Going back to your question, since the approval is obtained, we expect \\nto launch in the next few months in India, we are gearing up to do commercial manufacturing \\nwhile getting all the necessary licenses needed for India launch.\"),\n",
       " Document(metadata={'speaker': 'Jeevan Patwa', 'order': 7}, page_content='Is there any other type of cancer that you are working on… any solid tumor cancer?'),\n",
       " Document(metadata={'speaker': 'Dr. Satyanarayana Chava', 'order': 8}, page_content='There is one Clinical candidate is in pipeline which is in preclinical, will go to Phase-II in the \\nnext six months, that is BCMA. There is another asset which is in the early stage of research for \\nthe solid tumors.'),\n",
       " Document(metadata={'speaker': 'Jeevan Patwa', 'order': 9}, page_content='Just wanted to understand on this API and FDF side. So, we are talking about new CMO orders. \\nLast quarter we said we have tied up with few clients. This quarter, we are saying we have CMO \\norder, a healthy pipeline. So, can you elaborate more on this when will they are going to start… \\nso is it going to be in the second-half and how big they are? Because our API revenue has been \\nconstant since last many quarters now despite having expanded our capacities by more than 50%. \\nSo, when can we actually see this number ramping up on the API side actually, and then on the \\nFDF side as well? So, on this CMO order basically can you elaborate more?\\nLaurus Labs Limited \\nOctober 20, 2023'),\n",
       " Document(metadata={'speaker': 'Dr. Satyanarayana Chava', 'order': 10}, page_content=\"The CMO order we got from our partners for integrated manufacturing of API and formulations. \\nIf you recollect, we were talking about billion tablets CMO. That will increase to 1.5, 1.6 billion. \\nWe are qualifying the packaging lines also. Earlier, we used to do bulk packaging, now we are \\ndoing the secondary packaging as well. And then your question of our 50% capacity addition, \\nmajority addition, we have done for CDMO. So, as you're aware, in CDMO business, we have \\nto have patience because we have to deliver Phase-II, Phase-III and wait for the commercial \\nlaunch. So, I can assure you your company is in a good position to offer CDMO differentiation \\nwhen compared to other CDMO companies in India.\"),\n",
       " Document(metadata={'speaker': 'Tushar Manudhane', 'order': 12}, page_content='So just on the gross margin firstly on sequential basis, when the synthesis business has in fact \\nthere has been slight decline and formulations business has also been quite stable. So, if you \\ncould just explain the reason for better gross margin this quarter compared to previous quarter?'),\n",
       " Document(metadata={'speaker': 'Dr. Satyanarayana Chava', 'order': 13}, page_content='The better gross margin in this quarter is primarily because of improvements we have done \\nearlier were commercialized and also, we are operating our ARV facilities at full scale, that is \\nalso helping us to leverage.'),\n",
       " Document(metadata={'speaker': 'Tushar Manudhane', 'order': 14}, page_content='Considering the FY24 sales outlook and presumably significant chunk of the business coming \\nfrom CMO, CDMO side, as you have indicated in just the earlier commentary that the ARV-led \\nAPI and formulations could be stable, so does it mean that there should be a significant \\nimprovement further in the gross margin in the coming quarters?'),\n",
       " Document(metadata={'speaker': 'Dr. Satyanarayana Chava', 'order': 15}, page_content='The gross margin improvement, if you look at our second quarter FY23 was at 55% where our \\nrevenue was primarily driven by large CDMO orders. Yes, if the CDMO revenues pick up, the \\nmargins will slightly improve better.'),\n",
       " Document(metadata={'speaker': 'Tushar Manudhane', 'order': 16}, page_content='Means we can go back to 55%?'),\n",
       " Document(metadata={'speaker': 'Dr. Satyanarayana Chava', 'order': 17}, page_content=\"I'm not commenting, but with the revenue growth primarily driven by CDMO business, the \\nchances of increasing beyond the 52% what we have reported will certainly go up.\"),\n",
       " Document(metadata={'speaker': 'Bharat', 'order': 19}, page_content='Recently, Andhra Pradesh Chief Minister has said groundbreaking for unit-7 in Vizag. May I \\nknow what is this unit-7?'),\n",
       " Document(metadata={'speaker': 'Dr. Satyanarayana Chava', 'order': 20}, page_content='New groundbreaking ceremony was done last week is primarily to add more capacity for \\nCDMO. We are making that common infrastructure for new CDMO sites.'),\n",
       " Document(metadata={'speaker': 'Bharat', 'order': 21}, page_content='This unit-7 for a specific customer or is it for generic -?\\nLaurus Labs Limited \\nOctober 20, 2023'),\n",
       " Document(metadata={'speaker': 'Dr. Satyanarayana Chava', 'order': 22}, page_content='There are two sites. We are creating common infrastructure and building one block in each of \\nthose to get the necessary regulatory approval so that that site also can be audited by big pharma \\nand we can able to service from that site as well.'),\n",
       " Document(metadata={'speaker': 'Bharat', 'order': 23}, page_content='May I know what is the CAPEX for FY25?'),\n",
       " Document(metadata={'speaker': 'Dr. Satyanarayana Chava', 'order': 24}, page_content='We will give you more details in the next quarter conference call about the new CAPEX in those \\nnew sites.'),\n",
       " Document(metadata={'speaker': 'Bharat', 'order': 25}, page_content=\"If you see in the presentation you said like this year would be a year of consolidation and the \\ntwo quarters back you said that a year of consolidation means you don't expect any degrowth. \\nMay I know what do you mean now with this a year of consolidation, do you expect any \\ndegrowth now?\"),\n",
       " Document(metadata={'speaker': 'Dr. Satyanarayana Chava', 'order': 26}, page_content='When we are saying this year will be a year of consolidation, that means we are adding a lot of \\ncapacity. If you look at in the last three years, we have added 3 million liters capacity and 5 \\nbillion tablets capacity. So, all those will be utilized in the next financial year onwards. There, a \\nlot of leverage will come. Currently, negative leverage is happening. We have capacities, we \\nhave people and we are only doing trial quantities. So, we are spending more than what we are \\nearning from those sites. So, once we do commercial manufacturing from those sites, you will \\nsee very healthy EBITDA margins and then return ratios.'),\n",
       " Document(metadata={'speaker': 'Vivek Agrawal', 'order': 28}, page_content='In API segment actually, we have seen a decent rebound and it is largely led by oncology. So, \\ncan you please call out what has driven this rebound and is it a broad-based or any product-\\nspecific contribution, any milestone income in oncology, etc., that would be helpful?'),\n",
       " Document(metadata={'speaker': 'Dr. Satyanarayana Chava', 'order': 29}, page_content=\"Thanks, Vivek. The growth in oncology business is also a pleasant surprise for us as well. Maybe \\nthe regulatory setbacks for some of the companies is helping us to gain market share, and as I \\nmentioned, we have the largest capacity in oncology, so we're able to capture that opportunity. \\nAnd if you look at our oncology API sale in H1, we have done Rs.171 crores and we have very, \\nvery good order book for H2. So, looks like we'll do very well in our oncology segment.\"),\n",
       " Document(metadata={'speaker': 'Vivek Agrawal', 'order': 30}, page_content='So, do you expect the current run rate can sustain in the coming quarters or in the next year as \\nwell?'),\n",
       " Document(metadata={'speaker': 'Dr. Satyanarayana Chava', 'order': 31}, page_content='We certainly believe so because we have order books well beyond Q4 this year.'),\n",
       " Document(metadata={'speaker': 'Vivek Agrawal', 'order': 32}, page_content='One question on FDF. How much of the business coming from US now, if you can help us \\nunderstand?'),\n",
       " Document(metadata={'speaker': 'Dr. Satyanarayana Chava', 'order': 33}, page_content='I can give you a number for North America. This year all put together, it could be $35-40 million\\nLaurus Labs Limited \\nOctober 20, 2023'),\n",
       " Document(metadata={'speaker': 'Vivek Agrawal', 'order': 34}, page_content=\"Just last question on synthesis business, right. So next few projects that we have in the segments \\nare largely in the animal health region or agchem, right. So, can you also talk a bit on human \\nhealth project, that's a bigger market, so is there any progress out there, has the company received \\nany mid or large-scale project of late\"),\n",
       " Document(metadata={'speaker': 'Dr. Satyanarayana Chava', 'order': 35}, page_content='In the synthesis, there are several projects in the clinical phase right now. We believe we are \\nwell positioned for several reasons. The one reason is we have capacity and our regulatory track \\nrecord is very good and we have scale and we have technical capabilities. See, nowadays we \\nhave capabilities from biocatalysis to continuous flow chemistry to very large-scale \\nhydrogenation, very low temperature reactions, very high temperature reactions. We are capable \\nof delivering wide variety of chemistries, that is also well appreciated by our partners. So, we \\nbelieve we are well positioned to get that opportunity.'),\n",
       " Document(metadata={'speaker': 'Madhav', 'order': 37}, page_content='I just wanted to understand on the approval for the CAR-T therapy which we have received for \\nIndia. How big is the addressable market, like do we know how many patients there are in India \\nwhich can be addressed by this drug? And I was just reading some article online. They said that \\ntreatment cost is about 30 lakhs per patient per year. Is that like broadly a right number that we \\nshould understand?'),\n",
       " Document(metadata={'speaker': 'Dr. Satyanarayana Chava', 'order': 38}, page_content=\"We cannot give you the exact cost to the patient. We can only give you what is the product cost \\nwe are going to supply to the hospitals. It is between 30 to 40 lakhs. So, we don't have any \\ncontrol or estimation on how much it will cost to the patient. Our associate companies plan to \\nsell between 30 to 40 lakhs per treatment.\"),\n",
       " Document(metadata={'speaker': 'Madhav', 'order': 39}, page_content=\"What's the patient population in India, do we have any broad estimation for that?\"),\n",
       " Document(metadata={'speaker': 'Dr. Satyanarayana Chava', 'order': 40}, page_content=\"I don't have the right number with us, but currently, ImmunoACT geared up to deliver about 500 \\ntreatments per year from the current facility and also creating facility which will be ready by \\nMarch 2025 where we can deliver additional 2,500 treatments per year.\"),\n",
       " Document(metadata={'speaker': 'Madhav', 'order': 41}, page_content='Then just on the CDMO business, I think you have mentioned we have 62 active projects in the \\npipeline. Could you please help us understand like how many of these are Phase-II, Phase-III \\nand commercialized molecules, if you could share some split it will be very helpful.'),\n",
       " Document(metadata={'speaker': 'Dr. Satyanarayana Chava', 'order': 42}, page_content='As I mentioned in our presentation, we have about 10 commercial products, four APIs and other \\nadvanced intermediates and we have an additional 60 projects in various clinical stages.'),\n",
       " Document(metadata={'speaker': 'Madhav', 'order': 43}, page_content='My question is like if we have 10 commercialized projects, that should mean like good potential \\nas we go into next year, right, because we are building the capacity and if 10 of them are \\ncommercial, is that the right understanding?\\nLaurus Labs Limited \\nOctober 20, 2023'),\n",
       " Document(metadata={'speaker': 'Dr. Satyanarayana Chava', 'order': 44}, page_content=\"We have built capacity for commercial products already. The additional capacity, for example, \\nin animal health, we just started commercial validation from this month. Our crop science facility \\nis still under construction. While other human health projects where we are creating capacity, \\nwe are doing either Phase-II or Phase-III quantities. So, once we do those, we have to wait for \\ncertain time until we get the commercial orders. So, what we are envisaging, what we're also \\ntelling all our stakeholders, the company is well positioned because of the Greenfield \\ninfrastructure, our quality and our chemistry capabilities, the company is well positioned to take \\nthose opportunities.\"),\n",
       " Document(metadata={'speaker': 'Krish Mehta', 'order': 46}, page_content='My first question is if you could provide the split between your ARV and non-ARV revenue for \\nthis quarter on a consolidated basis?'),\n",
       " Document(metadata={'speaker': 'Dr. Satyanarayana Chava', 'order': 47}, page_content='ARV is 49%.'),\n",
       " Document(metadata={'speaker': 'Krish Mehta', 'order': 48}, page_content='Could you provide the split between your ARV FDF and non-ARV FDF for this quarter?'),\n",
       " Document(metadata={'speaker': 'Dr. Satyanarayana Chava', 'order': 49}, page_content=\"We have done about Rs.110 crores of non-ARV formulations. If you look at our split there, it is \\nslightly moving towards non-ARV products, that's what we are mentioning. The growth in \\nformulations also in the future quarters will only come from non-ARV.\"),\n",
       " Document(metadata={'speaker': 'Ranvir Singh', 'order': 51}, page_content='My question is related to ImmunoACT. When we are expecting it to roll out in India?'),\n",
       " Document(metadata={'speaker': 'Dr. Satyanarayana Chava', 'order': 52}, page_content='We expect the rollout will happen in the next two months.'),\n",
       " Document(metadata={'speaker': 'Ranvir Singh', 'order': 53}, page_content='Do we have a plan to increase your stake there from 34%?'),\n",
       " Document(metadata={'speaker': 'Dr. Satyanarayana Chava', 'order': 54}, page_content=\"It's too early to say anything because they have enough capital to deploy and if they get approval \\nand that will also give some additional cash flow for them, we don't expect.\"),\n",
       " Document(metadata={'speaker': 'Ranvir Singh', 'order': 55}, page_content=\"In last quarter, we indicated that EBITDA margin may come back to around 25%-plus kind of a \\nnumber going forward. Because in first half that doesn't that seems a distant roll. So, any \\ncomment over here?\"),\n",
       " Document(metadata={'speaker': 'Dr. Satyanarayana Chava', 'order': 56}, page_content='Based on the current trend of growth in all segments, we expect the margins will be better when \\ncompared to the first half and we are very optimistic about second half of this financial year.'),\n",
       " Document(metadata={'speaker': 'Ranvir Singh', 'order': 57}, page_content='So overall for a full year, the margin can we expect in the range of 20% at least?'),\n",
       " Document(metadata={'speaker': 'Dr. Satyanarayana Chava', 'order': 58}, page_content=\"I can still say we'll improve beyond this 15% right now, yes.\\nLaurus Labs Limited \\nOctober 20, 2023\"),\n",
       " Document(metadata={'speaker': 'Ranvir Singh', 'order': 59}, page_content='Third on bio side, have you added any more products other than Trypsin in this division?'),\n",
       " Document(metadata={'speaker': 'Dr. Satyanarayana Chava', 'order': 60}, page_content='In bio, the majority revenue is driven by our CDMO partners. So, our revenue coming from \\nTrypsin and animal origin free ingredients is also growing, but major growth is coming from our \\nCDMO offerings there.'),\n",
       " Document(metadata={'speaker': 'Ranvir Singh', 'order': 61}, page_content='So, on a full year basis, what kind of potential we can see from this division?'),\n",
       " Document(metadata={'speaker': 'Dr. Satyanarayana Chava', 'order': 62}, page_content='The H1 bio is Rs.89 crores and the second half will also will be very similar to that, yes. We \\nexpect some more decrease in Q3 because of we are shutting down some of the facility for \\ndebottlenecking and where Q4 will rebound. So, that that division is doing very good as you \\nhave seen from our previous quarters. That is the reason we increase our stake in the company. \\nWe have lot of confidence on that business segment.'),\n",
       " Document(metadata={'speaker': 'Sajal Kapoor', 'order': 64}, page_content='My first question is, there is a quote from Henry Ford and I quote him, he said, “The only real \\nmistake is the one from which we learn nothing.” Do you believe Dr. Satya that failures can \\nsometimes lead to new opportunities or landing strips and provided the lessons are learned and \\ninternalized, and if yes, what examples from your own experience over the past year or so might \\nyou be able to share?'),\n",
       " Document(metadata={'speaker': 'Dr. Satyanarayana Chava', 'order': 65}, page_content='We have several examples. Our conviction put us into a very leadership position. For some \\nproducts where we failed to validate, some products we failed to get the right costing, but we \\ncontinue to invest on those products and we enjoyed the success, there are several examples for \\nthat. We cannot fail every time. So, we fail once, twice, but we eliminate the opportunities for \\nfailure significantly at every failure.'),\n",
       " Document(metadata={'speaker': 'Sajal Kapoor', 'order': 66}, page_content=\"My second question, Dr. Satya is, at a recent innovation conference in Cambridge, I heard a \\nquote from a member of pharmaceutical life sciences company that kind of keeps coming back \\nto me. The person asserted that possibility always produces uncertainty and fear of uncertainty \\nis a competitive advantage or mode that keeps their business safe from rivals or competition. \\nAnd they claim that if something is too simple to discover or develop, then anybody and \\neverybody will eventually get involved in the field of delivering or developing new drugs. So, \\nthe uncertainty is kind of a mode that protects their business, that was their hypothesis. I mean, \\nwhat's your sense on this, if you can please?\"),\n",
       " Document(metadata={'speaker': 'Dr. Satyanarayana Chava', 'order': 67}, page_content=\"We can give you on our recent success. Our investment in cell therapy is a lot of uncertainties \\naround that discovery and development. So many people don't go into that. That's one way we \\nhad enjoyed success. The second is not many people are investing in gene therapy because of \\nlack of talent, lack of understanding of that segment, we invested there. But it will take some \\ntime for us to enjoy success in gene therapy. When it comes to the CDMO, what you said is \\nabsolutely right. How many companies in India have created three million liters of new capacity\\nLaurus Labs Limited \\nOctober 20, 2023 \\n \\nin the last three years? Not many. How many companies have scale at which we are operating? \\nHow many companies are having fully integrated development, that means from enzyme design, \\nenzyme manufacturing to biocatalysis to large scale hydrogenations, flow chemistry and all. So, \\nwe are creating competitive advantage by investing ahead of the time, that is our success mantra, \\nthat's we are saying many a time and you pointed out very well. So, the fear of failure will \\nprevent many people to invest, yes.\"),\n",
       " Document(metadata={'speaker': 'Sajal Kapoor', 'order': 68}, page_content=\"Dr. Satya, one question on regulatory uncertainty. What else could potentially harm or \\ndisappoint shareholders in the medium term, let's say next two to three years when it comes to \\nthe uncertainty that we have on the regulatory front, it could be USFDA audit, it could be some \\nunexpected development, anything on your horizon that we have to be guarded against?\"),\n",
       " Document(metadata={'speaker': 'Dr. Satyanarayana Chava', 'order': 69}, page_content=\"We have derisked significantly, but we can't say 100%. We have multiple facilities now. We are \\noperating in multiple regions. So, we have our bio division in Bangalore, Tumkur and Mysore. \\nWe have our R&D in Hyderabad, Telangana. We have API facilities in Vizag, Andhra Pradesh. \\nWe have our associate company in Mumbai. And we have our cell and gene therapy facility \\nbeing created at Kanpur. So, we have diversified significantly regional wise also. And second \\nwhen it comes to regulatory inspections, you have seen our impeccable track record there and \\nwe expect to maintain that.\"),\n",
       " Document(metadata={'speaker': 'Saurabh Kapadia', 'order': 71}, page_content=\"The outlook for second-half and '25 looks positive. So, will it be driven by more of the animal \\nhealth project or the current commercialized molecule has the scope to drive it further, is there \\nany large molecule or the molecule where there's a large opportunity in the current \\ncommercialized molecule as well?\"),\n",
       " Document(metadata={'speaker': 'Dr. Satyanarayana Chava', 'order': 72}, page_content='Our optimism in second-half is primarily driven by increased sales in API, ARV, increased sales \\nin oncology, increased sales in formulations, and also increased sales in CDMO, it is driven by \\nall segments.'),\n",
       " Document(metadata={'speaker': 'Saurabh Kapadia', 'order': 73}, page_content='On synthesis side, will it be the animal health project only or the current commercial molecules \\nalso should the ARV growth as well?'),\n",
       " Document(metadata={'speaker': 'Dr. Satyanarayana Chava', 'order': 74}, page_content=\"We are not expecting any new commercial sales during the second-half. We're only anticipating \\na supply of Phase-II, Phase-III quantities in the second-half.\"),\n",
       " Document(metadata={'speaker': 'Nitin Agarwal', 'order': 76}, page_content='Just following up, sir, on the synthesis question, after the second-half, you mentioned the animal \\nhealth business begins to scale up. When is the agrichem business contract largely to scale up \\nfor us\\nLaurus Labs Limited \\nOctober 20, 2023'),\n",
       " Document(metadata={'speaker': 'Dr. Satyanarayana Chava', 'order': 77}, page_content='That will be in the second-half of FY25.'),\n",
       " Document(metadata={'speaker': 'Nitin Agarwal', 'order': 78}, page_content='Sir, beyond these two contracts, are there any major milestones for the segment that we can we \\ncan sort of look forward to?'),\n",
       " Document(metadata={'speaker': 'Dr. Satyanarayana Chava', 'order': 79}, page_content=\"We are working on some R&D projects with partner, but we don't expect commercial sales in \\nthe next 12 to 18 months, yes. As you are aware, we are working with one of the top leading \\ncrop science companies. So, we have lot of potential to grow, but we are also cautious not to \\novercommit and underdeliver. We are taking projects what we can deliver. So, our current \\nchallenge is also lot of CAPEX projects going on. So, we are also cautious on where to invest, \\nhow much to invest.\"),\n",
       " Document(metadata={'speaker': 'Nitin Agarwal', 'order': 80}, page_content='So, sir, is the understanding right that animal health will contribute this second-half of this year, \\nagrochemicals product will contribute in second-half of next year, and I guess there is not much \\nof incremental large contract is likely to contribute in the human health over the next at least 18 \\nmonths?'),\n",
       " Document(metadata={'speaker': 'Dr. Satyanarayana Chava', 'order': 81}, page_content='I said next six months.'),\n",
       " Document(metadata={'speaker': 'Nitin Agarwal', 'order': 82}, page_content='So, do you expect some commercialization of human health business also in FY25?'),\n",
       " Document(metadata={'speaker': 'Dr. Satyanarayana Chava', 'order': 83}, page_content=\"I can't give more specific, but there are products which will go from Phase-II to Phase-III next \\nyear.\"),\n",
       " Document(metadata={'speaker': 'Nitin Agarwal', 'order': 84}, page_content='Sir, this $100 million ongoing CAPEX in synthesis, by when do you see it is reasonably utilized?'),\n",
       " Document(metadata={'speaker': 'Dr. Satyanarayana Chava', 'order': 85}, page_content='Mid of next financial year onwards.'),\n",
       " Document(metadata={'speaker': 'Nitin Agarwal', 'order': 86}, page_content='Sir, lastly on the FDF business this quarter, what was the component of non-ARV business in \\nthat?'),\n",
       " Document(metadata={'speaker': 'Dr. Satyanarayana Chava', 'order': 87}, page_content='Rs.105 crores are non-ARV business from formulations.'),\n",
       " Document(metadata={'speaker': 'Nitin Agarwal', 'order': 88}, page_content='And sir, lastly, on the other APIs, how should we think about this business growth from a 12 to \\n18 months perspective?'),\n",
       " Document(metadata={'speaker': 'Dr. Satyanarayana Chava', 'order': 89}, page_content='Non-ARV formulations potential is very high. In ARV, API as well as formulations, we will \\nhave a threshold, we will not go beyond that because the number of patients is also plateauing \\nin the African region. We anticipate both ARVs APIs and formulations will also attain its peak \\nrevenues soon maybe. So, the growth in both APIs growth, in formulations will come from non-\\nAPI, non-ARV formulations.\\nLaurus Labs Limited \\nOctober 20, 2023'),\n",
       " Document(metadata={'speaker': 'Nitin Agarwal', 'order': 90}, page_content='What will be the drivers for this growth, any specific molecules or therapies or it could be broad-\\nbased growth over here?'),\n",
       " Document(metadata={'speaker': 'Dr. Satyanarayana Chava', 'order': 91}, page_content='Our new approvals in US, our new contract manufacturing deals in APIs and formulations, our \\nonco sales are growing, our non-ARV, non-onco API sales are growing. So, there are a lot of \\navenues for us to grow there.'),\n",
       " Document(metadata={'speaker': 'Nitin Agarwal', 'order': 92}, page_content='On this ImmunoACT business, apart from the financial stake that we have, what other role do \\nwe have in this partnership?'),\n",
       " Document(metadata={'speaker': 'Dr. Satyanarayana Chava', 'order': 93}, page_content='We have two board membership there and we help them in thinking at about scale, some strategic \\ninputs. Beyond that we are not involved in the. day-to-day operations there.'),\n",
       " Document(metadata={'speaker': 'Nitin Agarwal', 'order': 94}, page_content='Any role in the manufacturing?'),\n",
       " Document(metadata={'speaker': 'Dr. Satyanarayana Chava', 'order': 95}, page_content='No. But in IIT, Kanpur we are operating our own facility there. So, just on the contrary to  \\nImmunoACT,  In gene therapy, we are going to operate our own facilities.'),\n",
       " Document(metadata={'speaker': 'Rohit Jain', 'order': 97}, page_content='So, on the last call, you said that you expect improvement in the synthesis business from the \\nnext quarter onwards and this quarter that we have seen that that particular division has degrown \\nby 10% sequentially. So, can you help us understand what changed within three months and \\nwhat is the outlook for this particular division going forward?'),\n",
       " Document(metadata={'speaker': 'Dr. Satyanarayana Chava', 'order': 98}, page_content='See, CDMO, supplies, timelines all depends on what our partner is requesting. Sometimes if the \\npartner asks deliveries in the next quarter, we have to deliver when he needs. So those kinds of \\nuncertainties will be at CDMO. But, our customer list is increasing, our project list is increasing. \\nThat is the reason we are also very confident on this segment.'),\n",
       " Document(metadata={'speaker': 'Rohit Jain', 'order': 99}, page_content=\"No, I understand. The reason I ask that is on the last call you said that there was some deferment \\nand that's why the first quarter number was lower and you expect improvement sequentially. So, \\nshould we understand that there was some further deferral?\"),\n",
       " Document(metadata={'speaker': 'Dr. Satyanarayana Chava', 'order': 100}, page_content=\"Yes, that's the reason we didn't have any sequential growth.\"),\n",
       " Document(metadata={'speaker': 'Rohit Jain', 'order': 101}, page_content='This was asked earlier on the call. Just wanted to confirm that. So, you said that this is the year \\nof consolidation which earlier sort of indicated that you expected flat EPS YoY given the \\nperformance in 1H that seems like a difficult task. So, how should we think of that qualitative \\nguidance of this year of consolidation in terms of financial?'),\n",
       " Document(metadata={'speaker': 'Dr. Satyanarayana Chava', 'order': 102}, page_content=\"We're not giving guidance, but as we mentioned, this is exciting times for us in the company, \\nthat means we have many prospects, many exciting projects and things are in a good shape. So,\\nLaurus Labs Limited \\nOctober 20, 2023 \\n \\nthat is the reason we are investing into the future. That's my answer for this, yes. We can't give \\nyou guidance right now.\"),\n",
       " Document(metadata={'speaker': 'Rohit Jain', 'order': 103}, page_content=\"For the CDMO CAPEX and for the size that you're preparing, what sort of asset turns should we \\nthink of, the broad range like the high and the low?\"),\n",
       " Document(metadata={'speaker': 'Dr. Satyanarayana Chava', 'order': 104}, page_content='I will give you a very broad number. It varies between one and two asset turn, all depends on \\nthe project, yes.'),\n",
       " Document(metadata={'speaker': 'Abhijeet K', 'order': 106}, page_content=\"First, I'd like to ask a question with regards to the revenue base. I'm looking at the presentation, \\nI see that there is a sequential increase in the revenue removing the r CDMO base of the previous \\ncontract which is Paxlovid . How do you see the revenues growing over the next two quarters \\nand also in the next one year?\"),\n",
       " Document(metadata={'speaker': 'Dr. Satyanarayana Chava', 'order': 107}, page_content=\"In the synthesis, if you look at the overall year, last year was lot of commercial supplies \\nhappened. This year, we don't have any commercial supplies, but we hope next year will be \\nagain a good year for a CDMO, some of the projects are moving into the late clinical phase or \\ncommercial. So, things will be in a good shape next year.\"),\n",
       " Document(metadata={'speaker': 'Abhijeet K', 'order': 108}, page_content=\"Next part is with regards to the CDMO. You've mentioned that one is going to be the animal \\nAPI business that is going to come into place and the other is the agrochemical. Do you see that \\nthis is going to be a structural change in the company where you're going to be diversifying not \\nonly from a pharma-based thing and diversify into other revenue streams like agri and also \\nalternative sectors?\"),\n",
       " Document(metadata={'speaker': 'Dr. Satyanarayana Chava', 'order': 109}, page_content=\"The animal health is a contract signed with one customer for good chunk of products. And in \\ncrop sciences, we have signed one development agreement and we'll also sign a second \\ncommercial agreement soon. So, our CDMO comprises of human health, animal health, some \\ncosmetic ingredients we are doing. So that way, our CDMO division is well diversified when \\ncompared to many other CDMOs, yes.\"),\n",
       " Document(metadata={'speaker': 'Aditya Sen', 'order': 111}, page_content=\"Once we start utilizing our new facilities, let's say by late FY25 or even FY26, then will we be \\nable to get back to the previous high range that is plus 25% range of EBITDA?\"),\n",
       " Document(metadata={'speaker': 'Dr. Satyanarayana Chava', 'order': 112}, page_content=\"This is a very interesting question, but we can promise you we will get closer to 30%, but I will \\nnot tell you which year. Our growth, our revenue contribution significantly tilts towards CDMO, \\nI'm sure we have an opportunity to take our EBITDA back to around 30% level.\\nLaurus Labs Limited \\nOctober 20, 2023\"),\n",
       " Document(metadata={'speaker': 'Dr. Satyanarayana Chava', 'order': 114}, page_content=\"Thank you, Monish for organizing this call and thank you our stakeholders who have a lot of \\nconfidence on us and I'm sure we will meet your expectations as we continue to commit \\nourselves to bring cutting edge technologies and servicing customers with our wide range of \\nchemistry offerings.\")]"
      ]
     },
     "execution_count": 25,
     "metadata": {},
     "output_type": "execute_result"
    }
   ],
   "source": [
    "act"
   ]
  },
  {
   "cell_type": "code",
   "execution_count": 26,
   "id": "9085fc0e",
   "metadata": {},
   "outputs": [],
   "source": [
    "from utils.create_topics import extract_topics"
   ]
  },
  {
   "cell_type": "code",
   "execution_count": 27,
   "id": "601fcaea",
   "metadata": {},
   "outputs": [
    {
     "data": {
      "text/plain": [
       "{'topics': ['CAR‑T therapy approval in India',\n",
       "  'Clinical trials in Mexico and Europe',\n",
       "  'Licensing deals with European partner',\n",
       "  'Solid tumor and BCMA pipeline',\n",
       "  'API and FDF manufacturing capacity',\n",
       "  'CMO and CDMO orders and capacity expansion',\n",
       "  'Gross margin improvement',\n",
       "  'Unit‑7 Vizag CDMO facility',\n",
       "  'CAPEX plans for FY25',\n",
       "  'Oncology API sales rebound',\n",
       "  'ARV vs non‑ARV revenue split',\n",
       "  'ImmunoACT partnership and rollout',\n",
       "  'Patient population and treatment cost in India',\n",
       "  'CDMO project phases (Phase‑II, Phase‑III, commercial)',\n",
       "  'Animal health and agrochemical projects',\n",
       "  'Bio division (trypsin) revenue',\n",
       "  'Regulatory and audit risk',\n",
       "  'EBITDA margin outlook',\n",
       "  'Diversification into animal health and crop science',\n",
       "  'Strategic board involvement and inputs']}"
      ]
     },
     "execution_count": 27,
     "metadata": {},
     "output_type": "execute_result"
    }
   ],
   "source": [
    "extract_topics(act)"
   ]
  },
  {
   "cell_type": "code",
   "execution_count": 2,
   "id": "1ff28844",
   "metadata": {},
   "outputs": [],
   "source": [
    "from api.llm import *\n",
    "\n",
    "from typing import List\n",
    "from langchain_core.prompts import PromptTemplate\n",
    "from langchain.schema import StrOutputParser\n",
    "\n",
    "\n",
    "# Define input schema with Pydantic (optional, but helps with validation)\n",
    "\n",
    "# Create a prompt template\n",
    "prompt = PromptTemplate.from_template(\n",
    "    \"Summarize the following text witghout Changing the context and actual menaing:\\n\\n{text}\"\n",
    ")\n",
    "\n",
    "# Define an output parser (parses LLM response into a string)\n",
    "parser = StrOutputParser()\n",
    "\n",
    "# Define summarizer as a chain\n",
    "def summarizer(input:str):\n",
    "    extractorchain = prompt | groq_chat | StrOutputParser() \n",
    "    result = extractorchain.invoke({\"text\":input})\n",
    "    return result\n",
    "\n",
    "\n",
    "\n",
    "\n"
   ]
  },
  {
   "cell_type": "code",
   "execution_count": 3,
   "id": "e666bba7",
   "metadata": {},
   "outputs": [
    {
     "data": {
      "text/plain": [
       "'The error message \"RateLimitError\" with code 429 indicates that the rate limit for the `openai/gpt-oss-120b` model has been reached. The limit of 200,000 tokens per day has been nearly exceeded, with 197,829 tokens used and a request for an additional 3,075 tokens. The service is currently on the \"on_demand\" tier, and the error suggests waiting for 6 minutes and 30 seconds before trying again. It also provides an option to upgrade to the Dev Tier for more tokens.'"
      ]
     },
     "execution_count": 3,
     "metadata": {},
     "output_type": "execute_result"
    }
   ],
   "source": [
    "summarizer(\"RateLimitError: Error code: 429 - {'error': {'message': 'Rate limit reached for model `openai/gpt-oss-120b` in organization `org_01hzp39vfge379hz03n81gbntm` service tier `on_demand` on tokens per day (TPD): Limit 200000, Used 197829, Requested 3075. Please try again in 6m30.313999999s. Need more tokens? Upgrade to Dev Tier today at https://console.groq.com/settings/billing', 'type': 'tokens', 'code': 'rate_lim\")"
   ]
  },
  {
   "cell_type": "code",
   "execution_count": null,
   "id": "7aef1bb7",
   "metadata": {},
   "outputs": [],
   "source": []
  }
 ],
 "metadata": {
  "kernelspec": {
   "display_name": ".venv",
   "language": "python",
   "name": "python3"
  },
  "language_info": {
   "codemirror_mode": {
    "name": "ipython",
    "version": 3
   },
   "file_extension": ".py",
   "mimetype": "text/x-python",
   "name": "python",
   "nbconvert_exporter": "python",
   "pygments_lexer": "ipython3",
   "version": "3.12.7"
  }
 },
 "nbformat": 4,
 "nbformat_minor": 5
}
