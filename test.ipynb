{
 "cells": [
  {
   "cell_type": "code",
   "execution_count": 1,
   "id": "8b5f79e4",
   "metadata": {},
   "outputs": [
    {
     "name": "stderr",
     "output_type": "stream",
     "text": [
      "2025-09-20 23:31:56.700 WARNING streamlit.runtime.caching.cache_data_api: No runtime found, using MemoryCacheStorageManager\n",
      "2025-09-20 23:31:56.701 WARNING streamlit.runtime.caching.cache_data_api: No runtime found, using MemoryCacheStorageManager\n",
      "2025-09-20 23:31:56.703 WARNING streamlit.runtime.scriptrunner_utils.script_run_context: Thread 'MainThread': missing ScriptRunContext! This warning can be ignored when running in bare mode.\n",
      "2025-09-20 23:31:57.056 \n",
      "  \u001b[33m\u001b[1mWarning:\u001b[0m to view this Streamlit app on a browser, run it with the following\n",
      "  command:\n",
      "\n",
      "    streamlit run d:\\Projects\\Thurro\\.venv\\Lib\\site-packages\\ipykernel_launcher.py [ARGUMENTS]\n",
      "2025-09-20 23:31:57.057 Thread 'MainThread': missing ScriptRunContext! This warning can be ignored when running in bare mode.\n",
      "2025-09-20 23:31:57.058 Thread 'MainThread': missing ScriptRunContext! This warning can be ignored when running in bare mode.\n",
      "2025-09-20 23:31:57.059 Thread 'MainThread': missing ScriptRunContext! This warning can be ignored when running in bare mode.\n",
      "2025-09-20 23:31:57.318 Thread 'MainThread': missing ScriptRunContext! This warning can be ignored when running in bare mode.\n",
      "2025-09-20 23:31:57.319 Thread 'MainThread': missing ScriptRunContext! This warning can be ignored when running in bare mode.\n",
      "2025-09-20 23:31:57.319 Thread 'MainThread': missing ScriptRunContext! This warning can be ignored when running in bare mode.\n"
     ]
    }
   ],
   "source": [
    "from utils.metadata import meta_data\n",
    "from utils.doc_parser import file_load\n",
    "\n",
    "docs = file_load(\"\",True)"
   ]
  },
  {
   "cell_type": "code",
   "execution_count": 3,
   "id": "2555b01c",
   "metadata": {},
   "outputs": [
    {
     "data": {
      "text/plain": [
       "'{\\n  \"company_name\": \"Laurus Labs Limited\",\\n  \"conference_call_date\": \"20-10-2023\",\\n  \"management_participants\": [\\n    {\\n      \"name\": \"Dr. Satyanarayana Chava\",\\n      \"designation\": \"Founder & Chief Executive Officer\"\\n    },\\n    {\\n      \"name\": \"V V Ravi Kumar\",\\n      \"designation\": \"Executive Director & Chief Financial Officer\"\\n    },\\n    {\\n      \"name\": \"Vivek\",\\n      \"designation\": \"Investor Relations Team\"\\n    },\\n    {\\n      \"name\": \"Monish Shah\",\\n      \"designation\": \"Moderator, Antique Stock Broking\"\\n    }\\n  ]\\n}'"
      ]
     },
     "execution_count": 3,
     "metadata": {},
     "output_type": "execute_result"
    }
   ],
   "source": [
    "fi = meta_data(docs)\n",
    "fi"
   ]
  },
  {
   "cell_type": "code",
   "execution_count": 2,
   "id": "4bfce2d8",
   "metadata": {},
   "outputs": [],
   "source": [
    "hi = []"
   ]
  },
  {
   "cell_type": "code",
   "execution_count": 3,
   "id": "8acdd674",
   "metadata": {},
   "outputs": [
    {
     "name": "stdout",
     "output_type": "stream",
     "text": [
      "sdvj\n"
     ]
    }
   ],
   "source": [
    "if not hi :\n",
    "    print(\"sdvj\")"
   ]
  },
  {
   "cell_type": "code",
   "execution_count": null,
   "id": "e20e8bd8",
   "metadata": {},
   "outputs": [],
   "source": []
  }
 ],
 "metadata": {
  "kernelspec": {
   "display_name": ".venv",
   "language": "python",
   "name": "python3"
  },
  "language_info": {
   "codemirror_mode": {
    "name": "ipython",
    "version": 3
   },
   "file_extension": ".py",
   "mimetype": "text/x-python",
   "name": "python",
   "nbconvert_exporter": "python",
   "pygments_lexer": "ipython3",
   "version": "3.12.7"
  }
 },
 "nbformat": 4,
 "nbformat_minor": 5
}
